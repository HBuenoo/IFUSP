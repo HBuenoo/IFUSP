{
 "cells": [
  {
   "cell_type": "code",
   "execution_count": 8,
   "metadata": {},
   "outputs": [],
   "source": [
    "%matplotlib inline\n",
    "import numpy as np\n",
    "from matplotlib import pyplot as pl\n",
    "from scipy.optimize import curve_fit\n",
    "from scipy.stats.distributions import  t\n",
    "from scipy.stats import chisquare\n",
    "import pandas as pd\n",
    "\n",
    "pl.rcParams['figure.figsize'] = (16, 5)\n",
    "pl.rc('xtick', labelsize=16)\n",
    "pl.rc('ytick', labelsize=16)"
   ]
  },
  {
   "cell_type": "code",
   "execution_count": 65,
   "metadata": {},
   "outputs": [],
   "source": [
    "data = pd.read_csv(\"/home/hbueno/IFUSP/Lab 4/Exp 1/Semana2.csv\", sep=\",\")\n",
    "xdata = np.asarray(data.o)\n",
    "xerro = np.asarray(data.sigma_objeto)\n",
    "ydata = np.asarray(data.i)\n",
    "yerro = np.asarray(data.sigma_imagem)"
   ]
  },
  {
   "cell_type": "code",
   "execution_count": 66,
   "metadata": {},
   "outputs": [
    {
     "data": {
      "text/html": [
       "<div>\n",
       "<style scoped>\n",
       "    .dataframe tbody tr th:only-of-type {\n",
       "        vertical-align: middle;\n",
       "    }\n",
       "\n",
       "    .dataframe tbody tr th {\n",
       "        vertical-align: top;\n",
       "    }\n",
       "\n",
       "    .dataframe thead th {\n",
       "        text-align: right;\n",
       "    }\n",
       "</style>\n",
       "<table border=\"1\" class=\"dataframe\">\n",
       "  <thead>\n",
       "    <tr style=\"text-align: right;\">\n",
       "      <th></th>\n",
       "      <th>o</th>\n",
       "      <th>sigma_objeto</th>\n",
       "      <th>i</th>\n",
       "      <th>sigma_imagem</th>\n",
       "    </tr>\n",
       "  </thead>\n",
       "  <tbody>\n",
       "    <tr>\n",
       "      <th>0</th>\n",
       "      <td>29.52</td>\n",
       "      <td>0.05</td>\n",
       "      <td>82.93</td>\n",
       "      <td>0.05</td>\n",
       "    </tr>\n",
       "    <tr>\n",
       "      <th>1</th>\n",
       "      <td>25.49</td>\n",
       "      <td>0.05</td>\n",
       "      <td>86.95</td>\n",
       "      <td>0.05</td>\n",
       "    </tr>\n",
       "    <tr>\n",
       "      <th>2</th>\n",
       "      <td>20.51</td>\n",
       "      <td>0.05</td>\n",
       "      <td>93.00</td>\n",
       "      <td>0.05</td>\n",
       "    </tr>\n",
       "    <tr>\n",
       "      <th>3</th>\n",
       "      <td>15.50</td>\n",
       "      <td>0.05</td>\n",
       "      <td>98.53</td>\n",
       "      <td>0.05</td>\n",
       "    </tr>\n",
       "    <tr>\n",
       "      <th>4</th>\n",
       "      <td>10.51</td>\n",
       "      <td>0.05</td>\n",
       "      <td>109.35</td>\n",
       "      <td>0.05</td>\n",
       "    </tr>\n",
       "    <tr>\n",
       "      <th>5</th>\n",
       "      <td>9.52</td>\n",
       "      <td>0.05</td>\n",
       "      <td>113.70</td>\n",
       "      <td>0.05</td>\n",
       "    </tr>\n",
       "    <tr>\n",
       "      <th>6</th>\n",
       "      <td>8.21</td>\n",
       "      <td>0.05</td>\n",
       "      <td>122.85</td>\n",
       "      <td>0.05</td>\n",
       "    </tr>\n",
       "    <tr>\n",
       "      <th>7</th>\n",
       "      <td>40.48</td>\n",
       "      <td>0.05</td>\n",
       "      <td>78.90</td>\n",
       "      <td>0.05</td>\n",
       "    </tr>\n",
       "    <tr>\n",
       "      <th>8</th>\n",
       "      <td>38.87</td>\n",
       "      <td>0.05</td>\n",
       "      <td>78.80</td>\n",
       "      <td>0.05</td>\n",
       "    </tr>\n",
       "    <tr>\n",
       "      <th>9</th>\n",
       "      <td>37.55</td>\n",
       "      <td>0.05</td>\n",
       "      <td>80.25</td>\n",
       "      <td>0.05</td>\n",
       "    </tr>\n",
       "    <tr>\n",
       "      <th>10</th>\n",
       "      <td>36.91</td>\n",
       "      <td>0.05</td>\n",
       "      <td>81.00</td>\n",
       "      <td>0.05</td>\n",
       "    </tr>\n",
       "    <tr>\n",
       "      <th>11</th>\n",
       "      <td>35.92</td>\n",
       "      <td>0.05</td>\n",
       "      <td>81.15</td>\n",
       "      <td>0.05</td>\n",
       "    </tr>\n",
       "    <tr>\n",
       "      <th>12</th>\n",
       "      <td>35.02</td>\n",
       "      <td>0.05</td>\n",
       "      <td>81.00</td>\n",
       "      <td>0.05</td>\n",
       "    </tr>\n",
       "    <tr>\n",
       "      <th>13</th>\n",
       "      <td>28.49</td>\n",
       "      <td>0.05</td>\n",
       "      <td>84.00</td>\n",
       "      <td>0.05</td>\n",
       "    </tr>\n",
       "    <tr>\n",
       "      <th>14</th>\n",
       "      <td>23.85</td>\n",
       "      <td>0.05</td>\n",
       "      <td>87.60</td>\n",
       "      <td>0.05</td>\n",
       "    </tr>\n",
       "    <tr>\n",
       "      <th>15</th>\n",
       "      <td>19.51</td>\n",
       "      <td>0.05</td>\n",
       "      <td>91.60</td>\n",
       "      <td>0.05</td>\n",
       "    </tr>\n",
       "    <tr>\n",
       "      <th>16</th>\n",
       "      <td>16.21</td>\n",
       "      <td>0.05</td>\n",
       "      <td>97.40</td>\n",
       "      <td>0.05</td>\n",
       "    </tr>\n",
       "    <tr>\n",
       "      <th>17</th>\n",
       "      <td>12.94</td>\n",
       "      <td>0.05</td>\n",
       "      <td>102.90</td>\n",
       "      <td>0.05</td>\n",
       "    </tr>\n",
       "    <tr>\n",
       "      <th>18</th>\n",
       "      <td>10.51</td>\n",
       "      <td>0.05</td>\n",
       "      <td>110.40</td>\n",
       "      <td>0.05</td>\n",
       "    </tr>\n",
       "    <tr>\n",
       "      <th>19</th>\n",
       "      <td>31.61</td>\n",
       "      <td>0.05</td>\n",
       "      <td>82.20</td>\n",
       "      <td>0.05</td>\n",
       "    </tr>\n",
       "    <tr>\n",
       "      <th>20</th>\n",
       "      <td>27.22</td>\n",
       "      <td>0.05</td>\n",
       "      <td>85.50</td>\n",
       "      <td>0.05</td>\n",
       "    </tr>\n",
       "    <tr>\n",
       "      <th>21</th>\n",
       "      <td>34.33</td>\n",
       "      <td>0.05</td>\n",
       "      <td>82.15</td>\n",
       "      <td>0.05</td>\n",
       "    </tr>\n",
       "    <tr>\n",
       "      <th>22</th>\n",
       "      <td>17.26</td>\n",
       "      <td>0.05</td>\n",
       "      <td>95.10</td>\n",
       "      <td>0.05</td>\n",
       "    </tr>\n",
       "    <tr>\n",
       "      <th>23</th>\n",
       "      <td>7.69</td>\n",
       "      <td>0.05</td>\n",
       "      <td>124.40</td>\n",
       "      <td>0.05</td>\n",
       "    </tr>\n",
       "    <tr>\n",
       "      <th>24</th>\n",
       "      <td>8.65</td>\n",
       "      <td>0.05</td>\n",
       "      <td>118.71</td>\n",
       "      <td>0.05</td>\n",
       "    </tr>\n",
       "  </tbody>\n",
       "</table>\n",
       "</div>"
      ],
      "text/plain": [
       "        o  sigma_objeto       i  sigma_imagem\n",
       "0   29.52          0.05   82.93          0.05\n",
       "1   25.49          0.05   86.95          0.05\n",
       "2   20.51          0.05   93.00          0.05\n",
       "3   15.50          0.05   98.53          0.05\n",
       "4   10.51          0.05  109.35          0.05\n",
       "5    9.52          0.05  113.70          0.05\n",
       "6    8.21          0.05  122.85          0.05\n",
       "7   40.48          0.05   78.90          0.05\n",
       "8   38.87          0.05   78.80          0.05\n",
       "9   37.55          0.05   80.25          0.05\n",
       "10  36.91          0.05   81.00          0.05\n",
       "11  35.92          0.05   81.15          0.05\n",
       "12  35.02          0.05   81.00          0.05\n",
       "13  28.49          0.05   84.00          0.05\n",
       "14  23.85          0.05   87.60          0.05\n",
       "15  19.51          0.05   91.60          0.05\n",
       "16  16.21          0.05   97.40          0.05\n",
       "17  12.94          0.05  102.90          0.05\n",
       "18  10.51          0.05  110.40          0.05\n",
       "19  31.61          0.05   82.20          0.05\n",
       "20  27.22          0.05   85.50          0.05\n",
       "21  34.33          0.05   82.15          0.05\n",
       "22  17.26          0.05   95.10          0.05\n",
       "23   7.69          0.05  124.40          0.05\n",
       "24   8.65          0.05  118.71          0.05"
      ]
     },
     "execution_count": 66,
     "metadata": {},
     "output_type": "execute_result"
    }
   ],
   "source": [
    "data"
   ]
  },
  {
   "cell_type": "code",
   "execution_count": 5,
   "metadata": {},
   "outputs": [],
   "source": [
    "#Modelos\n",
    "def linear_fit(x, m, b):\n",
    "    return m*x + b\n",
    "def hiperbolic_fit(x, a, b):\n",
    "    return a/x + b"
   ]
  },
  {
   "cell_type": "code",
   "execution_count": 70,
   "metadata": {},
   "outputs": [
    {
     "name": "stdout",
     "output_type": "stream",
     "text": [
      "[432.42046127  69.23869306] \n",
      "\n",
      " [[ 0.09037702 -0.00517827]\n",
      " [-0.00517827  0.0003967 ]]\n"
     ]
    }
   ],
   "source": [
    "fit=curve_fit(hiperbolic_fit, xdata, ydata, sigma=yerro, absolute_sigma=True)\n",
    "ans, cov = fit\n",
    "print(ans, '\\n\\n', cov)\n",
    "#Output são meus 3 valores de parâmetros e a matrix de covariancia, a incerteza dos parametros é:\n",
    "# np.sqrt(np.diag(ans))"
   ]
  },
  {
   "cell_type": "code",
   "execution_count": 41,
   "metadata": {},
   "outputs": [
    {
     "name": "stdout",
     "output_type": "stream",
     "text": [
      "p0: 432.42046127483775 [431.7985654828433  433.0423570668322]\n",
      "p1: 69.2386930633691 [69.19749113736387  69.27989498937433]\n"
     ]
    }
   ],
   "source": [
    "#Somatorio do observado-modelo define chi quadrado\n",
    "def chi2(a,b):\n",
    "    return np.sum((ydata-hiperbolic_fit(xdata,a,b))**2/yerro**2)\n",
    "\n",
    "alpha = 0.05 # 95% confidence interval = 100*(1-alpha)\n",
    "\n",
    "n = len(ydata)    # number of data points\n",
    "p = len(ans) # number of parameters\n",
    "\n",
    "dof = max(0, n - p) # number of degrees of freedom\n",
    "\n",
    "# student-t value for the dof and confidence level\n",
    "tval = t.ppf(1.0-alpha/2., dof) \n",
    "\n",
    "for i, p,var in zip(range(n), ans, np.diag(cov)):\n",
    "    sigma = var**0.5\n",
    "    print ('p{0}: {1} [{2}  {3}]'.format(i, p,\n",
    "                                  p - sigma*tval,\n",
    "                                  p + sigma*tval))"
   ]
  },
  {
   "cell_type": "code",
   "execution_count": 61,
   "metadata": {},
   "outputs": [
    {
     "data": {
      "text/plain": [
       "3.6674020623878905"
      ]
     },
     "execution_count": 61,
     "metadata": {},
     "output_type": "execute_result"
    }
   ],
   "source": [
    "# O chi quadrado reduzido para meu ajuste:\n",
    "chi2(ans[0], ans[1])/len(xdata)"
   ]
  },
  {
   "cell_type": "code",
   "execution_count": 37,
   "metadata": {},
   "outputs": [],
   "source": [
    "x_plots = np.linspace(5,50,1000) # vetor para plotar o modelo "
   ]
  },
  {
   "cell_type": "code",
   "execution_count": 67,
   "metadata": {
    "scrolled": false
   },
   "outputs": [
    {
     "data": {
      "image/png": "[encoded data removed]",
      "text/plain": [
       "<Figure size 1152x360 with 1 Axes>"
      ]
     },
     "metadata": {
      "needs_background": "light"
     },
     "output_type": "display_data"
    }
   ],
   "source": [
    "pl.errorbar(xdata, ydata, yerr=yerro, xerr=xerro, fmt='.',c='k',label=r'Experimental data')\n",
    "pl.plot(x_plots,hiperbolic_fit(x_plots, ans[0], ans[1]),c='b',lw=2,label=r'Plummer model fit')\n",
    "pl.xlabel(r'Posição do objeto o (cm)', fontsize=18)\n",
    "pl.ylabel(r'Posição da imagem i (cm)', fontsize=18)\n",
    "pl.legend(loc=\"upper right\",fontsize = 16)\n",
    "pl.grid(ls=':',c='k')"
   ]
  },
  {
   "cell_type": "code",
   "execution_count": null,
   "metadata": {},
   "outputs": [],
   "source": [
    "# Exportando para csv para jogar no moodle:\n",
    "data = {'X':xdata, 'erro X':x_erro}\n",
    "df = pd.DataFrame(data, columns=['X', 'erro X'])\n",
    "df.to_csv('Export_to_moodle.csv')"
   ]
  },
  {
   "cell_type": "code",
   "execution_count": 71,
   "metadata": {},
   "outputs": [
    {
     "data": {
      "text/plain": [
       "Power_divergenceResult(statistic=0.2468852870068224, pvalue=1.0)"
      ]
     },
     "execution_count": 71,
     "metadata": {},
     "output_type": "execute_result"
    }
   ],
   "source": [
    "chisquare(ydata, hiperbolic_fit(xdata, ans[0],ans[1]))"
   ]
  },
  {
   "cell_type": "code",
   "execution_count": null,
   "metadata": {},
   "outputs": [],
   "source": []
  }
 ],
 "metadata": {
  "kernelspec": {
   "display_name": "Python 3",
   "language": "python",
   "name": "python3"
  },
  "language_info": {
   "codemirror_mode": {
    "name": "ipython",
    "version": 3
   },
   "file_extension": ".py",
   "mimetype": "text/x-python",
   "name": "python",
   "nbconvert_exporter": "python",
   "pygments_lexer": "ipython3",
   "version": "3.7.3"
  }
 },
 "nbformat": 4,
 "nbformat_minor": 2
}
