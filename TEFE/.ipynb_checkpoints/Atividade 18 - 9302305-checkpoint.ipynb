{
 "cells": [
  {
   "cell_type": "markdown",
   "metadata": {},
   "source": [
    "## Atividade 18 - TEFE2019:  Henrique Bueno de Lima - N. USP: 9302305"
   ]
  },
  {
   "cell_type": "code",
   "execution_count": 6,
   "metadata": {},
   "outputs": [],
   "source": [
    "import numpy as np\n",
    "import matplotlib.pyplot as pl\n",
    "from scipy.stats import t\n",
    "from pylab import rcParams"
   ]
  },
  {
   "cell_type": "code",
   "execution_count": 2,
   "metadata": {},
   "outputs": [],
   "source": [
    "rcParams['figure.figsize'] = (10, 8)"
   ]
  },
  {
   "cell_type": "markdown",
   "metadata": {},
   "source": [
    "## a)"
   ]
  },
  {
   "cell_type": "code",
   "execution_count": 35,
   "metadata": {},
   "outputs": [],
   "source": [
    "x0 = 50.\n",
    "sigma_x0 = 10.\n",
    "def gera_dados(M, N):\n",
    "    x =[]\n",
    "    x_med =[]\n",
    "    sigma_x=[]\n",
    "    t=[]\n",
    "    z=[]\n",
    "    for i in range(M):\n",
    "        vec = x0 + np.random.randn(N) * sigma_x0\n",
    "        x.append(vec)\n",
    "        x_med.append(np.mean(vec))\n",
    "        sigma_vec = np.sqrt(1/(N-1) * np.sum((vec - np.mean(vec))**2))\n",
    "        sigma_x.append(sigma_vec)\n",
    "        t.append( ( np.mean(vec) - x0 ) / ( np.mean(sigma_vec) / np.sqrt(N) ) )\n",
    "        z.append( ( np.mean(vec) - x0 ) / ( sigma_x0 / np.sqrt(N) ) )\n",
    "    return np.asarray(x_med), np.asarray(sigma_x), np.asarray(sigma_x/np.sqrt(N)), np.asarray(t), np.asarray(z)"
   ]
  },
  {
   "cell_type": "code",
   "execution_count": 36,
   "metadata": {},
   "outputs": [
    {
     "name": "stdout",
     "output_type": "stream",
     "text": [
      "[49.8729508] [2.86262771] [1.65273888] [-0.07687191] [-0.02200557]\n"
     ]
    }
   ],
   "source": [
    "x_med, sigma_x_med, sigma_x, t, z= gera_dados(1, 3)\n",
    "print(x_med, sigma_x_med, sigma_x, t, z)"
   ]
  },
  {
   "cell_type": "code",
   "execution_count": 49,
   "metadata": {},
   "outputs": [],
   "source": [
    "x_med, sigma_x_med, sigma_x, t, z= gera_dados(10000, 3)"
   ]
  },
  {
   "cell_type": "code",
   "execution_count": 50,
   "metadata": {},
   "outputs": [
    {
     "data": {
      "text/plain": [
       "(9542, 20.905109423296487)"
      ]
     },
     "execution_count": 50,
     "metadata": {},
     "output_type": "execute_result"
    }
   ],
   "source": [
    "nt2 = len(np.argwhere(abs(t)<=4.53))\n",
    "sigma_nt2 = np.sqrt(nt2*(1-nt2/10000))\n",
    "nt2, sigma_nt2"
   ]
  },
  {
   "cell_type": "code",
   "execution_count": 51,
   "metadata": {},
   "outputs": [],
   "source": [
    "x_med, sigma_x_med, sigma_x, t, z= gera_dados(10000, 3)"
   ]
  },
  {
   "cell_type": "code",
   "execution_count": 52,
   "metadata": {},
   "outputs": [
    {
     "data": {
      "text/plain": [
       "(9565, 20.39797784095276)"
      ]
     },
     "execution_count": 52,
     "metadata": {},
     "output_type": "execute_result"
    }
   ],
   "source": [
    "nz2 = len(np.argwhere(abs(z)<=2))\n",
    "sigma_nz2 = np.sqrt(nz2*(1-nz2/10000))\n",
    "nz2, sigma_nz2"
   ]
  },
  {
   "cell_type": "code",
   "execution_count": 57,
   "metadata": {},
   "outputs": [],
   "source": [
    "x_med, sigma_x_med, sigma_x, t, z= gera_dados(10000, 101)"
   ]
  },
  {
   "cell_type": "code",
   "execution_count": 58,
   "metadata": {},
   "outputs": [
    {
     "data": {
      "text/plain": [
       "(9566, 20.375583427229756)"
      ]
     },
     "execution_count": 58,
     "metadata": {},
     "output_type": "execute_result"
    }
   ],
   "source": [
    "nt2 = len(np.argwhere(abs(t)<=2.03))\n",
    "sigma_nt2 = np.sqrt(nt2*(1-nt2/10000))\n",
    "nt2, sigma_nt2"
   ]
  },
  {
   "cell_type": "code",
   "execution_count": 59,
   "metadata": {},
   "outputs": [],
   "source": [
    "x_med, sigma_x_med, sigma_x, t, z= gera_dados(10000, 101)"
   ]
  },
  {
   "cell_type": "code",
   "execution_count": 60,
   "metadata": {},
   "outputs": [
    {
     "data": {
      "text/plain": [
       "(9568, 20.33070584116548)"
      ]
     },
     "execution_count": 60,
     "metadata": {},
     "output_type": "execute_result"
    }
   ],
   "source": [
    "nz2 = len(np.argwhere(abs(z)<=2))\n",
    "sigma_nz2 = np.sqrt(nz2*(1-nz2/10000))\n",
    "nz2, sigma_nz2"
   ]
  },
  {
   "cell_type": "code",
   "execution_count": null,
   "metadata": {},
   "outputs": [],
   "source": []
  }
 ],
 "metadata": {
  "kernelspec": {
   "display_name": "Python 3",
   "language": "python",
   "name": "python3"
  },
  "language_info": {
   "codemirror_mode": {
    "name": "ipython",
    "version": 3
   },
   "file_extension": ".py",
   "mimetype": "text/x-python",
   "name": "python",
   "nbconvert_exporter": "python",
   "pygments_lexer": "ipython3",
   "version": "3.6.5"
  }
 },
 "nbformat": 4,
 "nbformat_minor": 2
}
