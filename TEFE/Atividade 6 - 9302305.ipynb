{
 "cells": [
  {
   "cell_type": "markdown",
   "metadata": {},
   "source": [
    "## Atividade 6 - TEFE2019:  Henrique Bueno de Lima - N. USP: 9302305"
   ]
  },
  {
   "cell_type": "code",
   "execution_count": 1,
   "metadata": {},
   "outputs": [],
   "source": [
    "import numpy as np\n",
    "import matplotlib.pyplot as pl\n",
    "import scipy.stats as st\n",
    "from pylab import rcParams\n",
    "rcParams['figure.figsize'] = 16, 8\n",
    "import pandas as pd"
   ]
  },
  {
   "cell_type": "markdown",
   "metadata": {},
   "source": [
    "## Exercício 1"
   ]
  },
  {
   "cell_type": "code",
   "execution_count": 50,
   "metadata": {},
   "outputs": [],
   "source": [
    "def dens_prob(x):\n",
    "    if (abs(x)>1):\n",
    "        return 0\n",
    "    else:\n",
    "        A = 3./2.\n",
    "        return A*x**2\n",
    "    \n",
    "def gera_x_por_exclusao(n):\n",
    "    x=np.zeros(n)\n",
    "    xi = -1.\n",
    "    xf = 1.\n",
    "    A = 3./2.\n",
    "    nOk = 0\n",
    "    while (nOk < n):\n",
    "        xc = xi + (xf - xi)*np.random.rand()\n",
    "        yc = A*np.random.rand()\n",
    "        if (yc < dens_prob(xc)):\n",
    "            x[nOk] = xc\n",
    "            nOk = nOk + 1\n",
    "    return x"
   ]
  },
  {
   "cell_type": "code",
   "execution_count": 57,
   "metadata": {},
   "outputs": [
    {
     "data": {
      "image/png": "[encoded data removed]",
      "text/plain": [
       "<Figure size 432x288 with 1 Axes>"
      ]
     },
     "metadata": {},
     "output_type": "display_data"
    }
   ],
   "source": [
    "N=10000\n",
    "x = gera_x_por_exclusao(N)\n",
    "pl.hist(x, 100);"
   ]
  },
  {
   "cell_type": "code",
   "execution_count": 35,
   "metadata": {},
   "outputs": [],
   "source": [
    "sigma_x = np.std(x)\n",
    "L = np.array([1., 1.5, 2., 2.5])* [sigma_x]"
   ]
  },
  {
   "cell_type": "code",
   "execution_count": 36,
   "metadata": {},
   "outputs": [],
   "source": [
    "contagens=[]\n",
    "for element in L:\n",
    "    contagens.append(np.sum(len(np.argwhere(abs(x)<element))))"
   ]
  },
  {
   "cell_type": "code",
   "execution_count": 37,
   "metadata": {},
   "outputs": [
    {
     "data": {
      "text/plain": [
       "[4639, 10000, 10000, 10000]"
      ]
     },
     "execution_count": 37,
     "metadata": {},
     "output_type": "execute_result"
    }
   ],
   "source": [
    "contagens"
   ]
  },
  {
   "cell_type": "code",
   "execution_count": 40,
   "metadata": {},
   "outputs": [
    {
     "data": {
      "text/plain": [
       "[5457, 8259, 10000, 10000]"
      ]
     },
     "execution_count": 40,
     "metadata": {},
     "output_type": "execute_result"
    }
   ],
   "source": [
    "N = 10000\n",
    "y = gera_x_por_exclusao(N) + gera_x_por_exclusao(N)\n",
    "sigma_y = np.std(y)\n",
    "L = np.array([1., 1.5, 2., 2.5])* [sigma_y]\n",
    "contagens=[]\n",
    "for element in L:\n",
    "    contagens.append(np.sum(len(np.argwhere(abs(y)<element))))\n",
    "contagens"
   ]
  },
  {
   "cell_type": "code",
   "execution_count": 67,
   "metadata": {},
   "outputs": [],
   "source": [
    "M = np.array([5, 10, 100])\n",
    "S = []\n",
    "#while(len(S)<N):\n",
    "for element in M:\n",
    "    aux=0\n",
    "    while(aux<10000):\n",
    "        S.append(np.sum(gera_x_por_exclusao(element)))\n",
    "        aux = aux+1"
   ]
  },
  {
   "cell_type": "code",
   "execution_count": 99,
   "metadata": {},
   "outputs": [],
   "source": [
    "M5 = S[0:10000]\n",
    "sigma_M5 = np.std(M5)\n",
    "M10 = S[10000:20000]\n",
    "sigma_M10 = np.std(M10)\n",
    "M100 = S[20000:30000]\n",
    "sigma_M100 = np.std(M100)"
   ]
  },
  {
   "cell_type": "code",
   "execution_count": 105,
   "metadata": {},
   "outputs": [
    {
     "data": {
      "text/plain": [
       "[6517, 8697, 9556, 9955]"
      ]
     },
     "execution_count": 105,
     "metadata": {},
     "output_type": "execute_result"
    }
   ],
   "source": [
    "contaM5, contaM10, contaM100 = [], [], []\n",
    "L = np.array([1., 1.5, 2., 2.5])* [sigma_M5]\n",
    "for element in L:\n",
    "    contaM5.append(len(np.argwhere(abs(np.asarray(M5))<element)))\n",
    "contaM5"
   ]
  },
  {
   "cell_type": "code",
   "execution_count": 106,
   "metadata": {},
   "outputs": [
    {
     "data": {
      "text/plain": [
       "[6782, 8651, 9546, 9891]"
      ]
     },
     "execution_count": 106,
     "metadata": {},
     "output_type": "execute_result"
    }
   ],
   "source": [
    "L = np.array([1., 1.5, 2., 2.5])* [sigma_M10]\n",
    "for element in L:\n",
    "    contaM10.append(len(np.argwhere(abs(np.asarray(M10))<element)))\n",
    "contaM10"
   ]
  },
  {
   "cell_type": "code",
   "execution_count": 107,
   "metadata": {},
   "outputs": [
    {
     "data": {
      "text/plain": [
       "[6752, 8684, 9566, 9872]"
      ]
     },
     "execution_count": 107,
     "metadata": {},
     "output_type": "execute_result"
    }
   ],
   "source": [
    "L = np.array([1., 1.5, 2., 2.5])* [sigma_M100]\n",
    "for element in L:\n",
    "    contaM100.append(len(np.argwhere(abs(np.asarray(M100))<element)))\n",
    "contaM100"
   ]
  },
  {
   "cell_type": "code",
   "execution_count": 117,
   "metadata": {},
   "outputs": [
    {
     "data": {
      "text/plain": [
       "9862"
      ]
     },
     "execution_count": 117,
     "metadata": {},
     "output_type": "execute_result"
    }
   ],
   "source": [
    "gauss=np.random.randn(10000)\n",
    "len(np.argwhere(abs(gauss)<=2.5))"
   ]
  },
  {
   "cell_type": "code",
   "execution_count": 109,
   "metadata": {},
   "outputs": [
    {
     "data": {
      "text/plain": [
       "<scipy.stats._distn_infrastructure.rv_frozen at 0x7fba49915898>"
      ]
     },
     "execution_count": 109,
     "metadata": {},
     "output_type": "execute_result"
    }
   ],
   "source": [
    "st.norm()"
   ]
  },
  {
   "cell_type": "code",
   "execution_count": 98,
   "metadata": {},
   "outputs": [
    {
     "data": {
      "text/plain": [
       "999"
      ]
     },
     "execution_count": 98,
     "metadata": {},
     "output_type": "execute_result"
    }
   ],
   "source": [
    "len(M5)"
   ]
  },
  {
   "cell_type": "code",
   "execution_count": null,
   "metadata": {},
   "outputs": [],
   "source": []
  }
 ],
 "metadata": {
  "kernelspec": {
   "display_name": "Python 3",
   "language": "python",
   "name": "python3"
  },
  "language_info": {
   "codemirror_mode": {
    "name": "ipython",
    "version": 3
   },
   "file_extension": ".py",
   "mimetype": "text/x-python",
   "name": "python",
   "nbconvert_exporter": "python",
   "pygments_lexer": "ipython3",
   "version": "3.6.5"
  }
 },
 "nbformat": 4,
 "nbformat_minor": 2
}
