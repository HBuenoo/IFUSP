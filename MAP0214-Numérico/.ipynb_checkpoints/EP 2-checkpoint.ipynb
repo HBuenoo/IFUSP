{
 "cells": [
  {
   "cell_type": "markdown",
   "metadata": {},
   "source": [
    "## MAP0214 - Cálculo Numérico e aplicações em física\n",
    "### Henrique Bueno de Lima - Nº USP: 9302305\n",
    "### EP2 - Solução de Sistemas de Equações Lineares - Profº Arnaldo Gammal"
   ]
  },
  {
   "cell_type": "markdown",
   "metadata": {},
   "source": [
    "Notebook no qual desenvolvi meu EP. Meus resultados são apresentados por etapas a), b), c) e d) ao longo do código:"
   ]
  },
  {
   "cell_type": "code",
   "execution_count": 1,
   "metadata": {},
   "outputs": [],
   "source": [
    "import numpy as np\n",
    "from astropy.table import Table"
   ]
  },
  {
   "cell_type": "markdown",
   "metadata": {},
   "source": [
    "### a) Aplicação das leis de Kirchhoff:\n",
    "\n",
    "\n",
    "\n",
    "\n",
    "\n",
    "\n",
    "\n",
    "\n",
    "\n",
    "\n",
    "\n"
   ]
  },
  {
   "cell_type": "markdown",
   "metadata": {},
   "source": []
  },
  {
   "cell_type": "markdown",
   "metadata": {},
   "source": []
  },
  {
   "cell_type": "markdown",
   "metadata": {},
   "source": []
  },
  {
   "cell_type": "markdown",
   "metadata": {},
   "source": []
  },
  {
   "cell_type": "markdown",
   "metadata": {},
   "source": [
    "### b) Método de eliminação de Gauss com pivoteamento parcial para a resolução do sistema da forma A*x = B: \n",
    "$$\\left[ {\\begin{array}{cc}\n",
    "   0 & 5 & -1\\\\\n",
    "   11 & 0 & 1\\\\\n",
    "   1 & -1 & -1\\\\\n",
    "  \\end{array} } \\right] \\begin{equation}\n",
    "\\left[\\begin{array}{l}{I_{1}} \\\\ {I_{2}} \\\\ {I_{3}}\\end{array}\\right]\n",
    "\\end{equation} = \\left[\\begin{array}{r}{5} \\\\ {14} \\\\ {0}\\end{array}\\right]\n",
    "$$"
   ]
  },
  {
   "cell_type": "code",
   "execution_count": 2,
   "metadata": {},
   "outputs": [],
   "source": [
    "A = np.matrix([[0, 5, -1], [11, 0, 1],[1, -1, -1]])\n",
    "\n",
    "B = np.matrix([[5], [14], [0]])"
   ]
  },
  {
   "cell_type": "code",
   "execution_count": 3,
   "metadata": {},
   "outputs": [],
   "source": [
    "def swapRows(v,i,j):\n",
    "    if (len(v.shape) == 1):\n",
    "        v[i],v[j] = v[j],v[i]\n",
    "    else:\n",
    "        v[[i,j],:] = v[[j,i],:]"
   ]
  },
  {
   "cell_type": "code",
   "execution_count": 4,
   "metadata": {},
   "outputs": [],
   "source": [
    "def eliminação_Gauss(A,B):\n",
    "    M = np.column_stack((A, B)) # Matriz aumentada\n",
    "    M = M.astype(float)\n",
    "    l ,c  = M.shape # M tem l linhas e c colunas\n",
    "    n = len(B)\n",
    "    for i in range(0, l):\n",
    "    # Procurar por máximo na coluna\n",
    "        for k in range(i, l):\n",
    "            if (abs(M[k,i] > abs(M[i,i]))):\n",
    "                swapRows(M,i,k)# troca as linhas\n",
    "            print('\\n iteração %.i:\\n'%(i+k+1), M)\n",
    "        # zerar abaixo do pivo\n",
    "        for k in range(i+1, l):\n",
    "            f = -M[k,i]/M[i,i]\n",
    "            for j in range(i, l+1):\n",
    "                if (i==j):\n",
    "                    M[k,j] = 0\n",
    "                else:\n",
    "                    M[k,j] = M[k,j] + f * M[i,j]\n",
    "    x = M[:,-1]\n",
    "    for k in range(1,n):\n",
    "        x[k] = x[k] - np.dot(M[k,0:k],x[0:k])\n",
    "    x[n-1] = x[n-1]/M[n-1,n-1]\n",
    "    for k in range(n-2,-1,-1):\n",
    "        x[k] = (x[k] - np.dot(M[k,k+1:n],x[k+1:n]))/M[k,k]\n",
    "    print('\\n A solução do sistema é:')\n",
    "    return x"
   ]
  },
  {
   "cell_type": "code",
   "execution_count": 5,
   "metadata": {},
   "outputs": [
    {
     "name": "stdout",
     "output_type": "stream",
     "text": [
      "\n",
      " iteração 1:\n",
      " [[ 0.  5. -1.  5.]\n",
      " [11.  0.  1. 14.]\n",
      " [ 1. -1. -1.  0.]]\n",
      "\n",
      " iteração 2:\n",
      " [[11.  0.  1. 14.]\n",
      " [ 0.  5. -1.  5.]\n",
      " [ 1. -1. -1.  0.]]\n",
      "\n",
      " iteração 3:\n",
      " [[11.  0.  1. 14.]\n",
      " [ 0.  5. -1.  5.]\n",
      " [ 1. -1. -1.  0.]]\n",
      "\n",
      " iteração 3:\n",
      " [[11.          0.          1.         14.        ]\n",
      " [ 0.          5.         -1.          5.        ]\n",
      " [ 0.         -1.         -1.09090909 -1.27272727]]\n",
      "\n",
      " iteração 4:\n",
      " [[11.          0.          1.         14.        ]\n",
      " [ 0.          5.         -1.          5.        ]\n",
      " [ 0.         -1.         -1.09090909 -1.27272727]]\n",
      "\n",
      " iteração 5:\n",
      " [[11.          0.          1.         14.        ]\n",
      " [ 0.          5.         -1.          5.        ]\n",
      " [ 0.          0.         -1.29090909 -0.27272727]]\n",
      "\n",
      " A solução do sistema é:\n"
     ]
    },
    {
     "data": {
      "text/plain": [
       "matrix([[1.25352113],\n",
       "        [1.04225352],\n",
       "        [0.21126761]])"
      ]
     },
     "execution_count": 5,
     "metadata": {},
     "output_type": "execute_result"
    }
   ],
   "source": [
    "eliminação_Gauss(A, B)"
   ]
  },
  {
   "cell_type": "markdown",
   "metadata": {},
   "source": [
    "### c) Método de Jacobi"
   ]
  },
  {
   "cell_type": "code",
   "execution_count": 6,
   "metadata": {},
   "outputs": [],
   "source": [
    "tabela1 = Table(names=('Iteração k', 'I1', 'I2', 'I3', 'erro' ), dtype=('i4', 'f4', 'f4','f4', 'f4')) # Formato da minha tabela 1\n",
    "\n",
    "A = np.matrix([[0, 5, -1], [11, 0, 1],[1, -1, -1]])\n",
    "\n",
    "B = np.matrix([[5], [14], [0]])\n",
    "\n",
    "x=np.matrix([[1],[1],[1]])"
   ]
  },
  {
   "cell_type": "code",
   "execution_count": 7,
   "metadata": {},
   "outputs": [],
   "source": [
    "def jacobi(A,b,x0,eps,N):  \n",
    "    #preliminares  \n",
    "    A = A.astype(float)  \n",
    "    b = b.astype(float)  \n",
    "    x0 = x0.astype(float)\n",
    " \n",
    "    n=np.shape(A)[0]\n",
    "    x = np.zeros(n)  \n",
    "    k = 0  \n",
    "    #iteracoes  \n",
    "    while (k < N):  \n",
    "        k = k+1  \n",
    "        #iteracao de Jacobi  \n",
    "        for i in np.arange(n):  \n",
    "            x[i] = b[i]\n",
    "            for j in np.concatenate((np.arange(0,i),np.arange(i+1,n))):  \n",
    "                x[i] -= A[i,j]*x0[j]  \n",
    "            x[i] /= A[i,i]  \n",
    "        tabela1.add_row((k, x[0], x[1], x[2], abs(x[i]**k - x[i]**(k-1)))) # A cada passo, a função preenche a tabela.\n",
    "        #tolerancia\n",
    "        if (abs(x[i]**k - x[i]**(k-1)) < eps):\n",
    "            print('\\n A solução do sistema é:')\n",
    "            return x  \n",
    "        #prepara nova iteracao  \n",
    "        x0 = np.copy(x)  \n",
    "    raise NameError('Num. max. de iteracoes excedido.')"
   ]
  },
  {
   "cell_type": "code",
   "execution_count": 8,
   "metadata": {},
   "outputs": [
    {
     "name": "stdout",
     "output_type": "stream",
     "text": [
      "\n",
      " A solução do sistema é:\n"
     ]
    },
    {
     "data": {
      "text/plain": [
       "array([1.25514651, 1.03867769, 0.19184974])"
      ]
     },
     "execution_count": 8,
     "metadata": {},
     "output_type": "execute_result"
    }
   ],
   "source": [
    "swapRows(A,0,1)\n",
    "swapRows(B,0,1)\n",
    "jacobi(A, B, x, 0.001, 25)"
   ]
  },
  {
   "cell_type": "code",
   "execution_count": 9,
   "metadata": {},
   "outputs": [
    {
     "data": {
      "text/html": [
       "<i>Table length=6</i>\n",
       "<table id=\"table139640943318408\" class=\"table-striped table-bordered table-condensed\">\n",
       "<thead><tr><th>Iteração k</th><th>I1</th><th>I2</th><th>I3</th><th>erro</th></tr></thead>\n",
       "<thead><tr><th>int32</th><th>float32</th><th>float32</th><th>float32</th><th>float32</th></tr></thead>\n",
       "<tr><td>1</td><td>1.1818181</td><td>1.2</td><td>-0.0</td><td>1.0</td></tr>\n",
       "<tr><td>2</td><td>1.2727273</td><td>1.0</td><td>-0.018181818</td><td>0.018512396</td></tr>\n",
       "<tr><td>3</td><td>1.2743802</td><td>0.99636364</td><td>0.27272728</td><td>0.054094665</td></tr>\n",
       "<tr><td>4</td><td>1.2479339</td><td>1.0545454</td><td>0.27801654</td><td>0.015514547</td></tr>\n",
       "<tr><td>5</td><td>1.2474531</td><td>1.0556033</td><td>0.19338843</td><td>0.0011282008</td></tr>\n",
       "<tr><td>6</td><td>1.2551465</td><td>1.0386777</td><td>0.19184974</td><td>0.00021003814</td></tr>\n",
       "</table>"
      ],
      "text/plain": [
       "<Table length=6>\n",
       "Iteração k     I1        I2          I3           erro    \n",
       "  int32     float32   float32     float32       float32   \n",
       "---------- --------- ---------- ------------ -------------\n",
       "         1 1.1818181        1.2         -0.0           1.0\n",
       "         2 1.2727273        1.0 -0.018181818   0.018512396\n",
       "         3 1.2743802 0.99636364   0.27272728   0.054094665\n",
       "         4 1.2479339  1.0545454   0.27801654   0.015514547\n",
       "         5 1.2474531  1.0556033   0.19338843  0.0011282008\n",
       "         6 1.2551465  1.0386777   0.19184974 0.00021003814"
      ]
     },
     "execution_count": 9,
     "metadata": {},
     "output_type": "execute_result"
    }
   ],
   "source": [
    "tabela1"
   ]
  },
  {
   "cell_type": "markdown",
   "metadata": {},
   "source": [
    "### d) Método de Gauss Seidel"
   ]
  },
  {
   "cell_type": "code",
   "execution_count": 10,
   "metadata": {},
   "outputs": [],
   "source": [
    "tabela2 = Table(names=('Iteração k', 'I1', 'I2', 'I3', 'erro' ), dtype=('i4', 'f4', 'f4','f4', 'f4')) # Formato da minha tabela 2\n",
    "\n",
    "A = np.matrix([[0, 5, -1], [11, 0, 1],[1, -1, -1]])\n",
    "\n",
    "B = np.matrix([[5], [14], [0]])\n",
    "\n",
    "x=np.matrix([[1],[1],[1]])"
   ]
  },
  {
   "cell_type": "code",
   "execution_count": 11,
   "metadata": {},
   "outputs": [],
   "source": [
    "def gauss_seidel(A,b,x0,eps,N):  \n",
    "    #preliminares  \n",
    "    A = A.astype(float)  \n",
    "    b = b.astype(float)  \n",
    "    x0 = x0.astype(float)  \n",
    " \n",
    "    n=np.shape(A)[0]\n",
    "    x = np.copy(x0) \n",
    "    k = 0\n",
    "    #iteracoes  \n",
    "    while (k < N):  \n",
    "        k = k+1  \n",
    "        #iteracao de Gauss-Seidel  \n",
    "        for i in np.arange(n):  \n",
    "            x[i] = b[i]  \n",
    "            for j in np.concatenate((np.arange(0,i),np.arange(i+1,n))):  \n",
    "                x[i] -= A[i,j]*x[j]  \n",
    "            x[i] /= A[i,i]  \n",
    "        tabela2.add_row((k, x[0], x[1], x[2], abs(x[i]**k - x[i]**(k-1)))) # A cada passo, a função preenche a tabela.\n",
    "        #tolerancia\n",
    "        if (abs(x[i]**k - x[i]**(k-1)) < eps):\n",
    "            print('\\n A solução do sistema é:')\n",
    "            return x  \n",
    "        #prepara nova iteracao  \n",
    "        x0 = np.copy(x)  \n",
    "    raise NameError('Num. max. de iteracoes excedido.')"
   ]
  },
  {
   "cell_type": "code",
   "execution_count": 12,
   "metadata": {},
   "outputs": [
    {
     "name": "stdout",
     "output_type": "stream",
     "text": [
      "\n",
      " A solução do sistema é:\n"
     ]
    },
    {
     "data": {
      "text/plain": [
       "array([[1.25367052],\n",
       "       [1.04192486],\n",
       "       [0.21174566]])"
      ]
     },
     "execution_count": 12,
     "metadata": {},
     "output_type": "execute_result"
    }
   ],
   "source": [
    "swapRows(A,0,1)\n",
    "swapRows(B,0,1)\n",
    "gauss_seidel(A, B, x, 0.001, 25)"
   ]
  },
  {
   "cell_type": "code",
   "execution_count": 13,
   "metadata": {},
   "outputs": [
    {
     "data": {
      "text/html": [
       "<i>Table length=6</i>\n",
       "<table id=\"table139640943369464\" class=\"table-striped table-bordered table-condensed\">\n",
       "<thead><tr><th>Iteração k</th><th>I1</th><th>I2</th><th>I3</th><th>erro</th></tr></thead>\n",
       "<thead><tr><th>int32</th><th>float32</th><th>float32</th><th>float32</th><th>float32</th></tr></thead>\n",
       "<tr><td>1</td><td>1.1818181</td><td>1.2</td><td>-0.018181818</td><td>1.0181818</td></tr>\n",
       "<tr><td>2</td><td>1.2743802</td><td>0.99636364</td><td>0.27801654</td><td>0.20072334</td></tr>\n",
       "<tr><td>3</td><td>1.2474531</td><td>1.0556033</td><td>0.19184974</td><td>0.029745039</td></tr>\n",
       "<tr><td>4</td><td>1.2552863</td><td>1.0383699</td><td>0.21691644</td><td>0.007992553</td></tr>\n",
       "<tr><td>5</td><td>1.2530077</td><td>1.0433832</td><td>0.2096243</td><td>0.0015261603</td></tr>\n",
       "<tr><td>6</td><td>1.2536706</td><td>1.0419248</td><td>0.21174565</td><td>0.00033553585</td></tr>\n",
       "</table>"
      ],
      "text/plain": [
       "<Table length=6>\n",
       "Iteração k     I1        I2          I3           erro    \n",
       "  int32     float32   float32     float32       float32   \n",
       "---------- --------- ---------- ------------ -------------\n",
       "         1 1.1818181        1.2 -0.018181818     1.0181818\n",
       "         2 1.2743802 0.99636364   0.27801654    0.20072334\n",
       "         3 1.2474531  1.0556033   0.19184974   0.029745039\n",
       "         4 1.2552863  1.0383699   0.21691644   0.007992553\n",
       "         5 1.2530077  1.0433832    0.2096243  0.0015261603\n",
       "         6 1.2536706  1.0419248   0.21174565 0.00033553585"
      ]
     },
     "execution_count": 13,
     "metadata": {},
     "output_type": "execute_result"
    }
   ],
   "source": [
    "tabela2"
   ]
  }
 ],
 "metadata": {
  "kernelspec": {
   "display_name": "Python 3",
   "language": "python",
   "name": "python3"
  },
  "language_info": {
   "codemirror_mode": {
    "name": "ipython",
    "version": 3
   },
   "file_extension": ".py",
   "mimetype": "text/x-python",
   "name": "python",
   "nbconvert_exporter": "python",
   "pygments_lexer": "ipython3",
   "version": "3.7.3"
  }
 },
 "nbformat": 4,
 "nbformat_minor": 2
}
