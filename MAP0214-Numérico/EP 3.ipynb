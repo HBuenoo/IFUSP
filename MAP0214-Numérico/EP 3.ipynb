{
 "cells": [
  {
   "cell_type": "markdown",
   "metadata": {},
   "source": [
    "## MAP0214 - Cálculo Numérico e aplicações em física\n",
    "### Henrique Bueno de Lima - Nº USP: 9302305\n",
    "### EP3 - Integração Numérica- Profº Arnaldo Gammal"
   ]
  },
  {
   "cell_type": "markdown",
   "metadata": {},
   "source": [
    "Notebook no qual desenvolvi meu EP. Meus resultados são apresentados por etapas a), b), c) e d) ao longo do código:"
   ]
  },
  {
   "cell_type": "code",
   "execution_count": 20,
   "metadata": {},
   "outputs": [],
   "source": [
    "import numpy as np\n",
    "from sympy import *\n",
    "from astropy import units as u\n",
    "from astropy.table import Table\n",
    "import matplotlib.pyplot as pl\n",
    "from pylab import rcParams\n",
    "rcParams['figure.figsize'] = 6, 6"
   ]
  },
  {
   "cell_type": "markdown",
   "metadata": {},
   "source": [
    "### 1) Seja a integral:\n",
    "### $I=\\int_{0}^{1}\\left(6-6 x^{5}\\right) d x$\n",
    "### a) Método de Simpson - precisão simples (float32)"
   ]
  },
  {
   "cell_type": "code",
   "execution_count": 2,
   "metadata": {},
   "outputs": [],
   "source": [
    "def integração_simpson(f,a,b,p):\n",
    "    N = 2**p\n",
    "    if N % 2 == 1:\n",
    "        raise ValueError(\"N precisa ser um número inteiro par.\")\n",
    "    h = (b-a)/N\n",
    "    x = np.linspace(a,b,N+1, dtype=np.float32) # Cada x tem precisão simples\n",
    "    y = f(x) # Teremos um vetor com valores de f(x) para cada x em [a,b], na mesma precisão\n",
    "    S = h/3 * np.sum(y[0:-1:2] + 4*y[1::2] + y[2::2])\n",
    "    return np.float32(S) # Aqui definimos a integral com a precisão que queremos"
   ]
  },
  {
   "cell_type": "markdown",
   "metadata": {},
   "source": [
    "#### Defini a função $f(x)$ do problema e testei o resultado da integração:"
   ]
  },
  {
   "cell_type": "code",
   "execution_count": 3,
   "metadata": {},
   "outputs": [
    {
     "data": {
      "text/plain": [
       "5.0"
      ]
     },
     "execution_count": 3,
     "metadata": {},
     "output_type": "execute_result"
    }
   ],
   "source": [
    "def f(x):\n",
    "    return 6 - 6*x**5\n",
    "integração_simpson(f, 0.,1.,25) # Apenas um exemplo da tabela do enunciado do EP3 para conferir que a função\n",
    "                                      # integra coretamente"
   ]
  },
  {
   "cell_type": "markdown",
   "metadata": {},
   "source": [
    "### b) Preenchimento de tabela para $N = 2^p$ intervalos, sendo que p vai de 1 à 25 com o valor da integral para dado N e seu erro do valor verdadeiro."
   ]
  },
  {
   "cell_type": "code",
   "execution_count": 4,
   "metadata": {},
   "outputs": [],
   "source": [
    "simples = np.float32\n",
    "dupla = np.float64"
   ]
  },
  {
   "cell_type": "markdown",
   "metadata": {},
   "source": [
    "#### Primeiro fiz a integral analítica e criei outra função que aceita números como parâmetros e retorna a integral definida:"
   ]
  },
  {
   "cell_type": "code",
   "execution_count": 5,
   "metadata": {},
   "outputs": [
    {
     "data": {
      "text/plain": [
       "-x**6 + 6*x"
      ]
     },
     "execution_count": 5,
     "metadata": {},
     "output_type": "execute_result"
    }
   ],
   "source": [
    "x = Symbol('x')\n",
    "f_symbol = 6 - 6* x**5\n",
    "integrate(f_symbol) # integral analítica"
   ]
  },
  {
   "cell_type": "code",
   "execution_count": 6,
   "metadata": {},
   "outputs": [
    {
     "data": {
      "text/plain": [
       "5.0"
      ]
     },
     "execution_count": 6,
     "metadata": {},
     "output_type": "execute_result"
    }
   ],
   "source": [
    "def integral_analítica(x): #usaremos ela para calcular o erro\n",
    "    return -x**6 + 6*x\n",
    "\n",
    "I = simples(integral_analítica(1.) - integral_analítica(0.)) # O valor da integral definida está contido\n",
    "                                                                # nesse elemtento I, com precisão simples.\n",
    "I"
   ]
  },
  {
   "cell_type": "markdown",
   "metadata": {},
   "source": [
    "### Vamos à montagem da tabela com p variando - precisão simples:"
   ]
  },
  {
   "cell_type": "code",
   "execution_count": 7,
   "metadata": {},
   "outputs": [],
   "source": [
    "tabela = Table(names=('p', 'N', 'I_n', 'erro'), dtype=('int32', 'int32', simples,simples)) # Formato da minha tabela\n",
    "\n",
    "# Alterando um pouco a função de integração para ela ter como output p, n, erro e então já montar a tabela:\n",
    "def integração_simpson(f, a, b, p, precisao):\n",
    "    pvec = np.linspace(1, p, p, dtype=int) # p com precisão simples\n",
    "    print('O vetor p é:', pvec)\n",
    "    for p in pvec:\n",
    "        N = 2**p\n",
    "        if N % 2 == 1:\n",
    "            raise ValueError(\"N precisa ser um número inteiro par.\")\n",
    "        h = precisao((b-a)/N)\n",
    "        x = np.linspace(a,b,N+1, dtype=precisao) # Cada x tem precisão simples\n",
    "        y = precisao(f(x)) # Teremos um vetor com valores de f(x) para cada x em [a,b], na mesma precisão\n",
    "        S = h/3 * np.sum(y[0:-1:2] + 4*y[1::2] + y[2::2])\n",
    "        erro = abs(S - I)\n",
    "        tabela.add_row((p, N, precisao(S), precisao(erro))) # A cada passo, a função preenche a tabela.\n",
    "    print('Sua tabela foi montada:')\n",
    "    return tabela"
   ]
  },
  {
   "cell_type": "code",
   "execution_count": 8,
   "metadata": {},
   "outputs": [
    {
     "name": "stdout",
     "output_type": "stream",
     "text": [
      "O vetor p é: [ 1  2  3  4  5  6  7  8  9 10 11 12 13 14 15 16 17 18 19 20 21 22 23 24\n",
      " 25]\n",
      "Sua tabela foi montada:\n"
     ]
    },
    {
     "data": {
      "text/html": [
       "<i>Table length=25</i>\n",
       "<table id=\"table139625660474200\" class=\"table-striped table-bordered table-condensed\">\n",
       "<thead><tr><th>p</th><th>N</th><th>I_n</th><th>erro</th></tr></thead>\n",
       "<thead><tr><th>int32</th><th>int32</th><th>float32</th><th>float32</th></tr></thead>\n",
       "<tr><td>1</td><td>2</td><td>4.875</td><td>0.125</td></tr>\n",
       "<tr><td>2</td><td>4</td><td>4.9921875</td><td>0.0078125</td></tr>\n",
       "<tr><td>3</td><td>8</td><td>4.9995117</td><td>0.00048828125</td></tr>\n",
       "<tr><td>4</td><td>16</td><td>4.9999695</td><td>3.0517578e-05</td></tr>\n",
       "<tr><td>5</td><td>32</td><td>4.999998</td><td>1.9073486e-06</td></tr>\n",
       "<tr><td>6</td><td>64</td><td>5.0</td><td>0.0</td></tr>\n",
       "<tr><td>7</td><td>128</td><td>5.0</td><td>0.0</td></tr>\n",
       "<tr><td>8</td><td>256</td><td>5.0</td><td>0.0</td></tr>\n",
       "<tr><td>9</td><td>512</td><td>5.0</td><td>0.0</td></tr>\n",
       "<tr><td>10</td><td>1024</td><td>5.0</td><td>0.0</td></tr>\n",
       "<tr><td>...</td><td>...</td><td>...</td><td>...</td></tr>\n",
       "<tr><td>16</td><td>65536</td><td>5.0</td><td>0.0</td></tr>\n",
       "<tr><td>17</td><td>131072</td><td>5.0</td><td>0.0</td></tr>\n",
       "<tr><td>18</td><td>262144</td><td>5.0</td><td>0.0</td></tr>\n",
       "<tr><td>19</td><td>524288</td><td>5.0</td><td>0.0</td></tr>\n",
       "<tr><td>20</td><td>1048576</td><td>5.0</td><td>0.0</td></tr>\n",
       "<tr><td>21</td><td>2097152</td><td>4.999999</td><td>9.536743e-07</td></tr>\n",
       "<tr><td>22</td><td>4194304</td><td>4.999999</td><td>9.536743e-07</td></tr>\n",
       "<tr><td>23</td><td>8388608</td><td>5.0000024</td><td>2.22524e-06</td></tr>\n",
       "<tr><td>24</td><td>16777216</td><td>5.0</td><td>0.0</td></tr>\n",
       "<tr><td>25</td><td>33554432</td><td>5.0</td><td>0.0</td></tr>\n",
       "</table>"
      ],
      "text/plain": [
       "<Table length=25>\n",
       "  p      N        I_n         erro    \n",
       "int32  int32    float32     float32   \n",
       "----- -------- --------- -------------\n",
       "    1        2     4.875         0.125\n",
       "    2        4 4.9921875     0.0078125\n",
       "    3        8 4.9995117 0.00048828125\n",
       "    4       16 4.9999695 3.0517578e-05\n",
       "    5       32  4.999998 1.9073486e-06\n",
       "    6       64       5.0           0.0\n",
       "    7      128       5.0           0.0\n",
       "    8      256       5.0           0.0\n",
       "    9      512       5.0           0.0\n",
       "   10     1024       5.0           0.0\n",
       "  ...      ...       ...           ...\n",
       "   16    65536       5.0           0.0\n",
       "   17   131072       5.0           0.0\n",
       "   18   262144       5.0           0.0\n",
       "   19   524288       5.0           0.0\n",
       "   20  1048576       5.0           0.0\n",
       "   21  2097152  4.999999  9.536743e-07\n",
       "   22  4194304  4.999999  9.536743e-07\n",
       "   23  8388608 5.0000024   2.22524e-06\n",
       "   24 16777216       5.0           0.0\n",
       "   25 33554432       5.0           0.0"
      ]
     },
     "execution_count": 8,
     "metadata": {},
     "output_type": "execute_result"
    }
   ],
   "source": [
    "integração_simpson(f, 0., 1., 25, simples)"
   ]
  },
  {
   "cell_type": "markdown",
   "metadata": {},
   "source": [
    "### c) Agora, com precisão dupla"
   ]
  },
  {
   "cell_type": "code",
   "execution_count": 9,
   "metadata": {},
   "outputs": [
    {
     "name": "stdout",
     "output_type": "stream",
     "text": [
      "O vetor p é: [ 1  2  3  4  5  6  7  8  9 10 11 12 13 14 15 16 17 18 19 20 21 22 23 24\n",
      " 25]\n",
      "Sua tabela foi montada:\n"
     ]
    },
    {
     "data": {
      "text/html": [
       "<i>Table length=50</i>\n",
       "<table id=\"table139625660474200\" class=\"table-striped table-bordered table-condensed\">\n",
       "<thead><tr><th>p</th><th>N</th><th>I_n</th><th>erro</th></tr></thead>\n",
       "<thead><tr><th>int32</th><th>int32</th><th>float32</th><th>float32</th></tr></thead>\n",
       "<tr><td>1</td><td>2</td><td>4.875</td><td>0.125</td></tr>\n",
       "<tr><td>2</td><td>4</td><td>4.9921875</td><td>0.0078125</td></tr>\n",
       "<tr><td>3</td><td>8</td><td>4.9995117</td><td>0.00048828125</td></tr>\n",
       "<tr><td>4</td><td>16</td><td>4.9999695</td><td>3.0517578e-05</td></tr>\n",
       "<tr><td>5</td><td>32</td><td>4.999998</td><td>1.9073486e-06</td></tr>\n",
       "<tr><td>6</td><td>64</td><td>5.0</td><td>0.0</td></tr>\n",
       "<tr><td>7</td><td>128</td><td>5.0</td><td>0.0</td></tr>\n",
       "<tr><td>8</td><td>256</td><td>5.0</td><td>0.0</td></tr>\n",
       "<tr><td>9</td><td>512</td><td>5.0</td><td>0.0</td></tr>\n",
       "<tr><td>10</td><td>1024</td><td>5.0</td><td>0.0</td></tr>\n",
       "<tr><td>...</td><td>...</td><td>...</td><td>...</td></tr>\n",
       "<tr><td>16</td><td>65536</td><td>5.0</td><td>0.0</td></tr>\n",
       "<tr><td>17</td><td>131072</td><td>5.0</td><td>0.0</td></tr>\n",
       "<tr><td>18</td><td>262144</td><td>5.0</td><td>0.0</td></tr>\n",
       "<tr><td>19</td><td>524288</td><td>5.0</td><td>0.0</td></tr>\n",
       "<tr><td>20</td><td>1048576</td><td>5.0</td><td>0.0</td></tr>\n",
       "<tr><td>21</td><td>2097152</td><td>5.0</td><td>0.0</td></tr>\n",
       "<tr><td>22</td><td>4194304</td><td>5.0</td><td>0.0</td></tr>\n",
       "<tr><td>23</td><td>8388608</td><td>5.0</td><td>0.0</td></tr>\n",
       "<tr><td>24</td><td>16777216</td><td>5.0</td><td>0.0</td></tr>\n",
       "<tr><td>25</td><td>33554432</td><td>5.0</td><td>1.7763568e-15</td></tr>\n",
       "</table>"
      ],
      "text/plain": [
       "<Table length=50>\n",
       "  p      N        I_n         erro    \n",
       "int32  int32    float32     float32   \n",
       "----- -------- --------- -------------\n",
       "    1        2     4.875         0.125\n",
       "    2        4 4.9921875     0.0078125\n",
       "    3        8 4.9995117 0.00048828125\n",
       "    4       16 4.9999695 3.0517578e-05\n",
       "    5       32  4.999998 1.9073486e-06\n",
       "    6       64       5.0           0.0\n",
       "    7      128       5.0           0.0\n",
       "    8      256       5.0           0.0\n",
       "    9      512       5.0           0.0\n",
       "   10     1024       5.0           0.0\n",
       "  ...      ...       ...           ...\n",
       "   16    65536       5.0           0.0\n",
       "   17   131072       5.0           0.0\n",
       "   18   262144       5.0           0.0\n",
       "   19   524288       5.0           0.0\n",
       "   20  1048576       5.0           0.0\n",
       "   21  2097152       5.0           0.0\n",
       "   22  4194304       5.0           0.0\n",
       "   23  8388608       5.0           0.0\n",
       "   24 16777216       5.0           0.0\n",
       "   25 33554432       5.0 1.7763568e-15"
      ]
     },
     "execution_count": 9,
     "metadata": {},
     "output_type": "execute_result"
    }
   ],
   "source": [
    "integração_simpson(f, 0., 1., 25, dupla)"
   ]
  },
  {
   "cell_type": "markdown",
   "metadata": {},
   "source": [
    "### 2) Pêndulo simples: $T=4 \\sqrt{\\frac{l}{g}} \\int_{0}^{\\pi / 2} \\frac{1}{\\sqrt{1-k^{2} \\sin ^{2} \\phi}} d \\phi$"
   ]
  },
  {
   "cell_type": "code",
   "execution_count": 10,
   "metadata": {},
   "outputs": [],
   "source": [
    "def integração_trapézio(f, a, b, n):\n",
    "    h = (b-a)/n\n",
    "    s = 0.5*(f(a) + f(b))\n",
    "    for i in range(1,n,1):\n",
    "        s = s + f(a + i*h)\n",
    "    return h*s"
   ]
  },
  {
   "cell_type": "code",
   "execution_count": 11,
   "metadata": {},
   "outputs": [],
   "source": [
    "tabela2 = Table(names=('theta0', 'T')) # Formato da minha tabela"
   ]
  },
  {
   "cell_type": "code",
   "execution_count": 12,
   "metadata": {},
   "outputs": [],
   "source": [
    "def T(phi_a, phi_b, N):\n",
    "    v = np.sqrt(1/9.8) # Assumi l = 1 e g = 9.8 por simplicidade\n",
    "    theta = np.linspace(0., np.pi, N)\n",
    "    for theta0 in theta:\n",
    "        k = np.sqrt(0.5*(1-np.cos(theta0)))\n",
    "        f = lambda phi: 1/np.sqrt(1-(k*np.sin(phi))**2)\n",
    "        I = 4* v* integração_trapézio(f, phi_a, phi_b, 100) # Usei 100 divisões trapezoidais\n",
    "        tabela2.add_row((theta0, I)) # A cada passo, a função preenche a tabela.\n",
    "    return tabela2"
   ]
  },
  {
   "cell_type": "code",
   "execution_count": 13,
   "metadata": {},
   "outputs": [
    {
     "name": "stderr",
     "output_type": "stream",
     "text": [
      "/home/hbueno/anaconda3/lib/python3.7/site-packages/ipykernel_launcher.py:6: RuntimeWarning: divide by zero encountered in double_scalars\n",
      "  \n"
     ]
    },
    {
     "data": {
      "text/html": [
       "<i>Table length=20</i>\n",
       "<table id=\"table139625660506464\" class=\"table-striped table-bordered table-condensed\">\n",
       "<thead><tr><th>theta0</th><th>T</th></tr></thead>\n",
       "<thead><tr><th>float64</th><th>float64</th></tr></thead>\n",
       "<tr><td>0.0</td><td>2.0070899231544934</td></tr>\n",
       "<tr><td>0.16534698176788384</td><td>2.0105248724292566</td></tr>\n",
       "<tr><td>0.3306939635357677</td><td>2.0208947647729523</td></tr>\n",
       "<tr><td>0.4960409453036515</td><td>2.0383982987929903</td></tr>\n",
       "<tr><td>0.6613879270715354</td><td>2.063378941687485</td></tr>\n",
       "<tr><td>0.8267349088394192</td><td>2.096344939029932</td></tr>\n",
       "<tr><td>0.992081890607303</td><td>2.138000784577912</td></tr>\n",
       "<tr><td>1.1574288723751869</td><td>2.1892945326484674</td></tr>\n",
       "<tr><td>1.3227758541430708</td><td>2.2514882860071204</td></tr>\n",
       "<tr><td>1.4881228359109546</td><td>2.3262642923980557</td></tr>\n",
       "<tr><td>1.6534698176788385</td><td>2.4158884070617663</td></tr>\n",
       "<tr><td>1.8188167994467224</td><td>2.523470742851191</td></tr>\n",
       "<tr><td>1.984163781214606</td><td>2.6534007108264333</td></tr>\n",
       "<tr><td>2.14951076298249</td><td>2.8121173785380433</td></tr>\n",
       "<tr><td>2.3148577447503738</td><td>3.009583080022433</td></tr>\n",
       "<tr><td>2.4802047265182576</td><td>3.262410354047442</td></tr>\n",
       "<tr><td>2.6455517082861415</td><td>3.6015466586499962</td></tr>\n",
       "<tr><td>2.8108986900540254</td><td>4.095982475128214</td></tr>\n",
       "<tr><td>2.9762456718219092</td><td>4.964349842542257</td></tr>\n",
       "<tr><td>3.141592653589793</td><td>inf</td></tr>\n",
       "</table>"
      ],
      "text/plain": [
       "<Table length=20>\n",
       "       theta0               T         \n",
       "      float64            float64      \n",
       "------------------- ------------------\n",
       "                0.0 2.0070899231544934\n",
       "0.16534698176788384 2.0105248724292566\n",
       " 0.3306939635357677 2.0208947647729523\n",
       " 0.4960409453036515 2.0383982987929903\n",
       " 0.6613879270715354  2.063378941687485\n",
       " 0.8267349088394192  2.096344939029932\n",
       "  0.992081890607303  2.138000784577912\n",
       " 1.1574288723751869 2.1892945326484674\n",
       " 1.3227758541430708 2.2514882860071204\n",
       " 1.4881228359109546 2.3262642923980557\n",
       " 1.6534698176788385 2.4158884070617663\n",
       " 1.8188167994467224  2.523470742851191\n",
       "  1.984163781214606 2.6534007108264333\n",
       "   2.14951076298249 2.8121173785380433\n",
       " 2.3148577447503738  3.009583080022433\n",
       " 2.4802047265182576  3.262410354047442\n",
       " 2.6455517082861415 3.6015466586499962\n",
       " 2.8108986900540254  4.095982475128214\n",
       " 2.9762456718219092  4.964349842542257\n",
       "  3.141592653589793                inf"
      ]
     },
     "execution_count": 13,
     "metadata": {},
     "output_type": "execute_result"
    }
   ],
   "source": [
    "T(0, np.pi/2, 20)"
   ]
  },
  {
   "cell_type": "code",
   "execution_count": 29,
   "metadata": {},
   "outputs": [
    {
     "data": {
      "text/plain": [
       "[<matplotlib.lines.Line2D at 0x7efd20aaddd8>]"
      ]
     },
     "execution_count": 29,
     "metadata": {},
     "output_type": "execute_result"
    },
    {
     "data": {
      "image/png": "[encoded data removed]",
      "text/plain": [
       "<Figure size 432x432 with 1 Axes>"
      ]
     },
     "metadata": {
      "needs_background": "light"
     },
     "output_type": "display_data"
    }
   ],
   "source": [
    "pl.plot(tabela2['theta0'], tabela2['T'])"
   ]
  },
  {
   "cell_type": "markdown",
   "metadata": {},
   "source": [
    "### 3) Cálculo de $π$ a partir da área do primeiro quadrante do círculo limitado pela curva $x^2+y^2 = 1$ usando o método de Monte-Carlo"
   ]
  },
  {
   "cell_type": "code",
   "execution_count": null,
   "metadata": {},
   "outputs": [],
   "source": [
    "a = 16807\n",
    "m = 2147483647\n",
    "z0 = 9302305\n",
    "def gera_Z(z0, a, m):\n",
    "    Z=[]\n",
    "    U=[]\n",
    "    Z.append(z0)\n",
    "    for i in tqdm(range(m)):\n",
    "        z0 = a*z0%m\n",
    "        Z.append(z0)\n",
    "        U.append(z0/m)\n",
    "    return Z, U"
   ]
  },
  {
   "cell_type": "markdown",
   "metadata": {},
   "source": [
    "### b)"
   ]
  },
  {
   "cell_type": "code",
   "execution_count": 34,
   "metadata": {},
   "outputs": [],
   "source": [
    "N = 100\n",
    "x = np.random.random(N)\n",
    "y = np.random.random(N)\n",
    "theta = np.linspace(0.,2.*np.pi, 1000)"
   ]
  },
  {
   "cell_type": "code",
   "execution_count": 35,
   "metadata": {},
   "outputs": [
    {
     "data": {
      "text/plain": [
       "[<matplotlib.lines.Line2D at 0x7efd209d1940>]"
      ]
     },
     "execution_count": 35,
     "metadata": {},
     "output_type": "execute_result"
    },
    {
     "data": {
      "image/png": "[encoded data removed]",
      "text/plain": [
       "<Figure size 432x432 with 1 Axes>"
      ]
     },
     "metadata": {
      "needs_background": "light"
     },
     "output_type": "display_data"
    }
   ],
   "source": [
    "pl.plot(x, y, marker='.', lw=0.)\n",
    "pl.plot(np.cos(theta), np.sin(theta), marker='.', lw=0.)"
   ]
  },
  {
   "cell_type": "code",
   "execution_count": 41,
   "metadata": {},
   "outputs": [
    {
     "data": {
      "text/plain": [
       "78"
      ]
     },
     "execution_count": 41,
     "metadata": {},
     "output_type": "execute_result"
    }
   ],
   "source": [
    "n = len(np.argwhere(x**2 + y**2 <= 1)) # quantos pontos estão no círculo\n",
    "n"
   ]
  },
  {
   "cell_type": "code",
   "execution_count": 40,
   "metadata": {},
   "outputs": [
    {
     "data": {
      "text/plain": [
       "3.12"
      ]
     },
     "execution_count": 40,
     "metadata": {},
     "output_type": "execute_result"
    }
   ],
   "source": [
    "p = 4* n/N # prob dentre os 100 de estar no círculo\n",
    "p"
   ]
  },
  {
   "cell_type": "code",
   "execution_count": 68,
   "metadata": {},
   "outputs": [],
   "source": [
    "array_tent = []\n",
    "x=2\n",
    "while(x <= 131072):\n",
    "    array_tent.append(x)\n",
    "    x = x + 2"
   ]
  },
  {
   "cell_type": "code",
   "execution_count": 61,
   "metadata": {},
   "outputs": [],
   "source": [
    "def lança_moedas(N):\n",
    "    n=100\n",
    "    x=np.random.random(n*N)\n",
    "    y=np.random.random(n*N)\n",
    "    I = 4*len(np.argwhere(x**2 + y**2 <= 1))/(N*n)\n",
    "    return I"
   ]
  },
  {
   "cell_type": "code",
   "execution_count": null,
   "metadata": {},
   "outputs": [
    {
     "name": "stderr",
     "output_type": "stream",
     "text": [
      " 92%|█████████▏| 60411/65536 [16:10:19<1:05:45,  1.30it/s]"
     ]
    }
   ],
   "source": [
    "tabela3 = Table(names=('N', 'Im', 'sigma', 'sigma_m')) # Formato da minha tabela\n",
    "\n",
    "for N_tot in tqdm(array_tent):\n",
    "    I = lança_moedas(N_tot)\n",
    "    Im = np.mean(I)\n",
    "    sigma = np.sqrt(1/(N_tot-1) * np.sum((I-Im)**2))\n",
    "    sigma_m = sigma/np.sqrt(N_tot*n)\n",
    "    tabela3.add_row((N_tot, Im, sigma, sigma_m)) # A cada passo, a função preenche a tabela."
   ]
  },
  {
   "cell_type": "code",
   "execution_count": null,
   "metadata": {},
   "outputs": [],
   "source": [
    "tabela3"
   ]
  },
  {
   "cell_type": "code",
   "execution_count": null,
   "metadata": {},
   "outputs": [],
   "source": []
  }
 ],
 "metadata": {
  "kernelspec": {
   "display_name": "Python 3",
   "language": "python",
   "name": "python3"
  },
  "language_info": {
   "codemirror_mode": {
    "name": "ipython",
    "version": 3
   },
   "file_extension": ".py",
   "mimetype": "text/x-python",
   "name": "python",
   "nbconvert_exporter": "python",
   "pygments_lexer": "ipython3",
   "version": "3.7.3"
  }
 },
 "nbformat": 4,
 "nbformat_minor": 2
}
