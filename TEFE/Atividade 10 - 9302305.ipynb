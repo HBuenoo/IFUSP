{
 "cells": [
  {
   "cell_type": "markdown",
   "metadata": {},
   "source": [
    "## Atividade 10 - TEFE2019:  Henrique Bueno de Lima - N. USP: 9302305"
   ]
  },
  {
   "cell_type": "code",
   "execution_count": 1,
   "metadata": {},
   "outputs": [],
   "source": [
    "import numpy as np\n",
    "import matplotlib.pyplot as pl\n",
    "from pylab import rcParams\n",
    "from mpl_toolkits.mplot3d import Axes3D"
   ]
  },
  {
   "cell_type": "code",
   "execution_count": 51,
   "metadata": {},
   "outputs": [],
   "source": [
    "rcParams['figure.figsize'] = (10, 8)"
   ]
  },
  {
   "cell_type": "markdown",
   "metadata": {},
   "source": [
    "## Exercício a)"
   ]
  },
  {
   "cell_type": "code",
   "execution_count": 4,
   "metadata": {},
   "outputs": [],
   "source": [
    "N=10000\n",
    "\n",
    "x0 = 15.\n",
    "sigma_x = 2.\n",
    "x = x0 + np.random.randn(N)*sigma_x\n",
    "\n",
    "y0 = 40.\n",
    "sigma_y = 3.\n",
    "y = y0 + np.random.randn(N)*sigma_y"
   ]
  },
  {
   "cell_type": "code",
   "execution_count": 58,
   "metadata": {},
   "outputs": [
    {
     "data": {
      "image/png": "[encoded data removed]",
      "text/plain": [
       "<Figure size 720x576 with 1 Axes>"
      ]
     },
     "metadata": {},
     "output_type": "display_data"
    }
   ],
   "source": [
    "pl.hist(x, bins=150, label='dens prob x')\n",
    "pl.hist(y, bins=150, label='dens prob y')\n",
    "pl.legend(fontsize=16)\n",
    "pl.show()"
   ]
  },
  {
   "cell_type": "code",
   "execution_count": 9,
   "metadata": {},
   "outputs": [
    {
     "name": "stdout",
     "output_type": "stream",
     "text": [
      "601.1387677962139 91.80848786147665\n"
     ]
    }
   ],
   "source": [
    "w = x * y\n",
    "w_m = np.mean(w)\n",
    "sigma_w = np.std(w)\n",
    "print(w_m, sigma_w)"
   ]
  },
  {
   "cell_type": "markdown",
   "metadata": {},
   "source": [
    "## Exercício b)"
   ]
  },
  {
   "cell_type": "code",
   "execution_count": 10,
   "metadata": {},
   "outputs": [
    {
     "name": "stdout",
     "output_type": "stream",
     "text": [
      "[73.81623362 79.45998298 86.63378143 ... 72.77428083 81.17118654\n",
      " 85.00473333] [47.180207   52.35668261 45.12190883 ... 50.6971759  38.58466679\n",
      " 53.89129628]\n"
     ]
    }
   ],
   "source": [
    "sigma_w_por_x = np.sqrt(y**2 * sigma_x**2)\n",
    "sigma_w_por_y = np.sqrt(x**2 * sigma_y**2)\n",
    "print(sigma_w_por_x, sigma_w_por_y)"
   ]
  },
  {
   "cell_type": "markdown",
   "metadata": {},
   "source": [
    "## Exercício c)"
   ]
  },
  {
   "cell_type": "code",
   "execution_count": 22,
   "metadata": {},
   "outputs": [],
   "source": [
    "def Gera_w( Nx, Ny, M ):\n",
    "    w=[]\n",
    "    x0 = 15.\n",
    "    sigma_x = 2.\n",
    "    y0 = 40.\n",
    "    sigma_y = 3.\n",
    "    for i in range(M):\n",
    "        xm = 0\n",
    "        for j in range(Nx):\n",
    "            xi = x0 + sigma_x*np.random.randn(1)\n",
    "            xm = xm + xi/Nx\n",
    "        ym = 0\n",
    "        for j in range(Ny):\n",
    "            yi = y0 + sigma_y*np.random.randn(1)\n",
    "            ym = ym + yi/Ny\n",
    "        w.append(xm*ym)\n",
    "    return w"
   ]
  },
  {
   "cell_type": "code",
   "execution_count": 24,
   "metadata": {},
   "outputs": [
    {
     "name": "stdout",
     "output_type": "stream",
     "text": [
      "599.6553235067844 72.4336467814289\n"
     ]
    }
   ],
   "source": [
    "w = Gera_w(2, 1, 10000)\n",
    "w_m = np.mean(w)\n",
    "sigma_w = np.std(w)\n",
    "print(w_m, sigma_w)"
   ]
  },
  {
   "cell_type": "code",
   "execution_count": 26,
   "metadata": {},
   "outputs": [
    {
     "name": "stdout",
     "output_type": "stream",
     "text": [
      "599.0005088588225 87.11508018222034\n"
     ]
    }
   ],
   "source": [
    "w = Gera_w(1, 2, 10000)\n",
    "w_m = np.mean(w)\n",
    "sigma_w = np.std(w)\n",
    "print(w_m, sigma_w)"
   ]
  },
  {
   "cell_type": "markdown",
   "metadata": {},
   "source": [
    "### Exercício d)"
   ]
  },
  {
   "cell_type": "code",
   "execution_count": 46,
   "metadata": {},
   "outputs": [
    {
     "name": "stdout",
     "output_type": "stream",
     "text": [
      "[599.4641467568192, 600.1907349092136, 599.1154942797884, 600.0496725818787, 600.2512390771451, 599.6397475166617, 600.0834956842882, 599.7571526628841, 599.2806900512699, 600.083475305171] \n",
      " [80.76680117187101, 58.19540400300811, 48.52442814494562, 43.490366356096786, 40.35043674427423, 38.60899493513918, 37.54071741971406, 38.87294494047012, 41.52778967387142, 52.174919834690726]\n"
     ]
    }
   ],
   "source": [
    "nx = np.arange(1,11)\n",
    "ny = np.arange(10,0, -1)\n",
    "novo_wm = []\n",
    "novo_sigma_w =[]\n",
    "for i in range(len(nx)):\n",
    "    w = Gera_w(nx[i], ny[i], 10000)\n",
    "    novo_wm.append(np.mean(w))\n",
    "    novo_sigma_w.append(np.std(w))\n",
    "print(novo_wm,'\\n', novo_sigma_w)"
   ]
  },
  {
   "cell_type": "code",
   "execution_count": 48,
   "metadata": {},
   "outputs": [
    {
     "name": "stdout",
     "output_type": "stream",
     "text": [
      "7 37.54071741971406\n"
     ]
    }
   ],
   "source": [
    "for i in range(len(novo_wm)):\n",
    "    if(novo_sigma_w[i] == min(novo_sigma_w)):\n",
    "        print(nx[i], novo_sigma_w[i])"
   ]
  }
 ],
 "metadata": {
  "kernelspec": {
   "display_name": "Python 3",
   "language": "python",
   "name": "python3"
  },
  "language_info": {
   "codemirror_mode": {
    "name": "ipython",
    "version": 3
   },
   "file_extension": ".py",
   "mimetype": "text/x-python",
   "name": "python",
   "nbconvert_exporter": "python",
   "pygments_lexer": "ipython3",
   "version": "3.7.3"
  }
 },
 "nbformat": 4,
 "nbformat_minor": 2
}
