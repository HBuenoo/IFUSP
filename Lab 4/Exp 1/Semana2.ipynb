{
 "cells": [
  {
   "cell_type": "code",
   "execution_count": 37,
   "metadata": {},
   "outputs": [],
   "source": [
    "%matplotlib inline\n",
    "import numpy as np\n",
    "from matplotlib import pyplot as pl\n",
    "from scipy.optimize import curve_fit\n",
    "from scipy.stats.distributions import  t\n",
    "from scipy.stats import chisquare\n",
    "import scipy\n",
    "import pandas as pd\n",
    "\n",
    "pl.rcParams['figure.figsize'] = (16, 5)\n",
    "pl.rc('xtick', labelsize=16)\n",
    "pl.rc('ytick', labelsize=16)"
   ]
  },
  {
   "cell_type": "code",
   "execution_count": 2,
   "metadata": {},
   "outputs": [],
   "source": [
    "data = pd.read_csv(\"/home/hbueno/IFUSP/Lab 4/Exp 1/Semana2.csv\", sep=\",\")\n",
    "xdata = np.asarray(data.o)\n",
    "xerro = np.asarray(data.sigma_objeto)\n",
    "ydata = np.asarray(data.i)\n",
    "yerro = np.asarray(data.sigma_imagem)"
   ]
  },
  {
   "cell_type": "code",
   "execution_count": 3,
   "metadata": {},
   "outputs": [
    {
     "data": {
      "text/html": [
       "<div>\n",
       "<style scoped>\n",
       "    .dataframe tbody tr th:only-of-type {\n",
       "        vertical-align: middle;\n",
       "    }\n",
       "\n",
       "    .dataframe tbody tr th {\n",
       "        vertical-align: top;\n",
       "    }\n",
       "\n",
       "    .dataframe thead th {\n",
       "        text-align: right;\n",
       "    }\n",
       "</style>\n",
       "<table border=\"1\" class=\"dataframe\">\n",
       "  <thead>\n",
       "    <tr style=\"text-align: right;\">\n",
       "      <th></th>\n",
       "      <th>o</th>\n",
       "      <th>sigma_objeto</th>\n",
       "      <th>i</th>\n",
       "      <th>sigma_imagem</th>\n",
       "    </tr>\n",
       "  </thead>\n",
       "  <tbody>\n",
       "    <tr>\n",
       "      <th>0</th>\n",
       "      <td>29.52</td>\n",
       "      <td>0.05</td>\n",
       "      <td>82.93</td>\n",
       "      <td>0.05</td>\n",
       "    </tr>\n",
       "    <tr>\n",
       "      <th>1</th>\n",
       "      <td>25.49</td>\n",
       "      <td>0.05</td>\n",
       "      <td>86.95</td>\n",
       "      <td>0.05</td>\n",
       "    </tr>\n",
       "    <tr>\n",
       "      <th>2</th>\n",
       "      <td>20.51</td>\n",
       "      <td>0.05</td>\n",
       "      <td>93.00</td>\n",
       "      <td>0.05</td>\n",
       "    </tr>\n",
       "    <tr>\n",
       "      <th>3</th>\n",
       "      <td>15.50</td>\n",
       "      <td>0.05</td>\n",
       "      <td>98.53</td>\n",
       "      <td>0.05</td>\n",
       "    </tr>\n",
       "    <tr>\n",
       "      <th>4</th>\n",
       "      <td>10.51</td>\n",
       "      <td>0.05</td>\n",
       "      <td>109.35</td>\n",
       "      <td>0.05</td>\n",
       "    </tr>\n",
       "    <tr>\n",
       "      <th>5</th>\n",
       "      <td>9.52</td>\n",
       "      <td>0.05</td>\n",
       "      <td>113.70</td>\n",
       "      <td>0.05</td>\n",
       "    </tr>\n",
       "    <tr>\n",
       "      <th>6</th>\n",
       "      <td>8.21</td>\n",
       "      <td>0.05</td>\n",
       "      <td>122.85</td>\n",
       "      <td>0.05</td>\n",
       "    </tr>\n",
       "    <tr>\n",
       "      <th>7</th>\n",
       "      <td>40.48</td>\n",
       "      <td>0.05</td>\n",
       "      <td>78.90</td>\n",
       "      <td>0.05</td>\n",
       "    </tr>\n",
       "    <tr>\n",
       "      <th>8</th>\n",
       "      <td>38.87</td>\n",
       "      <td>0.05</td>\n",
       "      <td>78.80</td>\n",
       "      <td>0.05</td>\n",
       "    </tr>\n",
       "    <tr>\n",
       "      <th>9</th>\n",
       "      <td>37.55</td>\n",
       "      <td>0.05</td>\n",
       "      <td>80.25</td>\n",
       "      <td>0.05</td>\n",
       "    </tr>\n",
       "    <tr>\n",
       "      <th>10</th>\n",
       "      <td>36.91</td>\n",
       "      <td>0.05</td>\n",
       "      <td>81.00</td>\n",
       "      <td>0.05</td>\n",
       "    </tr>\n",
       "    <tr>\n",
       "      <th>11</th>\n",
       "      <td>35.92</td>\n",
       "      <td>0.05</td>\n",
       "      <td>81.15</td>\n",
       "      <td>0.05</td>\n",
       "    </tr>\n",
       "    <tr>\n",
       "      <th>12</th>\n",
       "      <td>35.02</td>\n",
       "      <td>0.05</td>\n",
       "      <td>81.00</td>\n",
       "      <td>0.05</td>\n",
       "    </tr>\n",
       "    <tr>\n",
       "      <th>13</th>\n",
       "      <td>28.49</td>\n",
       "      <td>0.05</td>\n",
       "      <td>84.00</td>\n",
       "      <td>0.05</td>\n",
       "    </tr>\n",
       "    <tr>\n",
       "      <th>14</th>\n",
       "      <td>23.85</td>\n",
       "      <td>0.05</td>\n",
       "      <td>87.60</td>\n",
       "      <td>0.05</td>\n",
       "    </tr>\n",
       "    <tr>\n",
       "      <th>15</th>\n",
       "      <td>19.51</td>\n",
       "      <td>0.05</td>\n",
       "      <td>91.60</td>\n",
       "      <td>0.05</td>\n",
       "    </tr>\n",
       "    <tr>\n",
       "      <th>16</th>\n",
       "      <td>16.21</td>\n",
       "      <td>0.05</td>\n",
       "      <td>97.40</td>\n",
       "      <td>0.05</td>\n",
       "    </tr>\n",
       "    <tr>\n",
       "      <th>17</th>\n",
       "      <td>12.94</td>\n",
       "      <td>0.05</td>\n",
       "      <td>102.90</td>\n",
       "      <td>0.05</td>\n",
       "    </tr>\n",
       "    <tr>\n",
       "      <th>18</th>\n",
       "      <td>10.51</td>\n",
       "      <td>0.05</td>\n",
       "      <td>110.40</td>\n",
       "      <td>0.05</td>\n",
       "    </tr>\n",
       "    <tr>\n",
       "      <th>19</th>\n",
       "      <td>31.61</td>\n",
       "      <td>0.05</td>\n",
       "      <td>82.20</td>\n",
       "      <td>0.05</td>\n",
       "    </tr>\n",
       "    <tr>\n",
       "      <th>20</th>\n",
       "      <td>27.22</td>\n",
       "      <td>0.05</td>\n",
       "      <td>85.50</td>\n",
       "      <td>0.05</td>\n",
       "    </tr>\n",
       "    <tr>\n",
       "      <th>21</th>\n",
       "      <td>34.33</td>\n",
       "      <td>0.05</td>\n",
       "      <td>82.15</td>\n",
       "      <td>0.05</td>\n",
       "    </tr>\n",
       "    <tr>\n",
       "      <th>22</th>\n",
       "      <td>17.26</td>\n",
       "      <td>0.05</td>\n",
       "      <td>95.10</td>\n",
       "      <td>0.05</td>\n",
       "    </tr>\n",
       "    <tr>\n",
       "      <th>23</th>\n",
       "      <td>7.69</td>\n",
       "      <td>0.05</td>\n",
       "      <td>124.40</td>\n",
       "      <td>0.05</td>\n",
       "    </tr>\n",
       "    <tr>\n",
       "      <th>24</th>\n",
       "      <td>8.65</td>\n",
       "      <td>0.05</td>\n",
       "      <td>118.71</td>\n",
       "      <td>0.05</td>\n",
       "    </tr>\n",
       "  </tbody>\n",
       "</table>\n",
       "</div>"
      ],
      "text/plain": [
       "        o  sigma_objeto       i  sigma_imagem\n",
       "0   29.52          0.05   82.93          0.05\n",
       "1   25.49          0.05   86.95          0.05\n",
       "2   20.51          0.05   93.00          0.05\n",
       "3   15.50          0.05   98.53          0.05\n",
       "4   10.51          0.05  109.35          0.05\n",
       "5    9.52          0.05  113.70          0.05\n",
       "6    8.21          0.05  122.85          0.05\n",
       "7   40.48          0.05   78.90          0.05\n",
       "8   38.87          0.05   78.80          0.05\n",
       "9   37.55          0.05   80.25          0.05\n",
       "10  36.91          0.05   81.00          0.05\n",
       "11  35.92          0.05   81.15          0.05\n",
       "12  35.02          0.05   81.00          0.05\n",
       "13  28.49          0.05   84.00          0.05\n",
       "14  23.85          0.05   87.60          0.05\n",
       "15  19.51          0.05   91.60          0.05\n",
       "16  16.21          0.05   97.40          0.05\n",
       "17  12.94          0.05  102.90          0.05\n",
       "18  10.51          0.05  110.40          0.05\n",
       "19  31.61          0.05   82.20          0.05\n",
       "20  27.22          0.05   85.50          0.05\n",
       "21  34.33          0.05   82.15          0.05\n",
       "22  17.26          0.05   95.10          0.05\n",
       "23   7.69          0.05  124.40          0.05\n",
       "24   8.65          0.05  118.71          0.05"
      ]
     },
     "execution_count": 3,
     "metadata": {},
     "output_type": "execute_result"
    }
   ],
   "source": [
    "data"
   ]
  },
  {
   "cell_type": "code",
   "execution_count": 27,
   "metadata": {},
   "outputs": [],
   "source": [
    "#Modelos\n",
    "def linear_fit(x, m, b):\n",
    "    return m*x + b\n",
    "def hiperbolic_fit(x, a, b):\n",
    "    return a/x + b\n",
    "def chi2(obs, esp, erro):\n",
    "    return np.sum((obs-esp)**2/erro**2)\n",
    "def chi2red(obs, esp, erro):\n",
    "    return np.sum((obs-esp)**2/erro**2)/(len(obs)-len(ans))\n",
    "def residuo(obs, esp):\n",
    "    return obs - esp"
   ]
  },
  {
   "cell_type": "code",
   "execution_count": 23,
   "metadata": {},
   "outputs": [
    {
     "name": "stdout",
     "output_type": "stream",
     "text": [
      "[432.42046127  69.23869306] \n",
      "\n",
      " [1.20251082 0.07966891]\n"
     ]
    }
   ],
   "source": [
    "fit=curve_fit(hiperbolic_fit, xdata, ydata, sigma=yerro, absolute_sigma=True)\n",
    "ans, cov = fit\n",
    "print(ans, '\\n\\n', np.sqrt(np.diag(cov)))"
   ]
  },
  {
   "cell_type": "code",
   "execution_count": 6,
   "metadata": {},
   "outputs": [
    {
     "name": "stdout",
     "output_type": "stream",
     "text": [
      "p0: 432.42046127483775 [431.7985654828433  433.0423570668322]\n",
      "p1: 69.2386930633691 [69.19749113736387  69.27989498937433]\n"
     ]
    }
   ],
   "source": [
    "alpha = 0.05 # 95% confidence interval = 100*(1-alpha)\n",
    "\n",
    "n = len(ydata)    # number of data points\n",
    "p = len(ans) # number of parameters\n",
    "\n",
    "dof = max(0, n - p) # number of degrees of freedom\n",
    "\n",
    "# student-t value for the dof and confidence level\n",
    "tval = t.ppf(1.0-alpha/2., dof) \n",
    "\n",
    "for i, p,var in zip(range(n), ans, np.diag(cov)):\n",
    "    sigma = var**0.5\n",
    "    print ('p{0}: {1} [{2}  {3}]'.format(i, p,\n",
    "                                  p - sigma*tval,\n",
    "                                  p + sigma*tval))"
   ]
  },
  {
   "cell_type": "code",
   "execution_count": 24,
   "metadata": {},
   "outputs": [
    {
     "data": {
      "text/plain": [
       "24.914416184700325"
      ]
     },
     "execution_count": 24,
     "metadata": {},
     "output_type": "execute_result"
    }
   ],
   "source": [
    "chi2red(ydata, hiperbolic_fit(xdata, ans[0],ans[1]), yerro)"
   ]
  },
  {
   "cell_type": "code",
   "execution_count": 28,
   "metadata": {},
   "outputs": [
    {
     "data": {
      "text/plain": [
       "array([-0.95708267,  0.74698911,  2.67791048,  1.39321266, -1.03240965,\n",
       "       -0.96101042,  0.94133601, -1.02101671, -1.56347982, -0.50455089,\n",
       "        0.04577019, -0.12712461, -0.58650749, -0.41666643,  0.23046999,\n",
       "        0.19726484,  1.48515263,  0.24396062,  0.01759035, -0.71855581,\n",
       "        0.37517684,  0.31531331,  0.80797778, -1.07022249, -0.51949784])"
      ]
     },
     "execution_count": 28,
     "metadata": {},
     "output_type": "execute_result"
    }
   ],
   "source": [
    "residuo(ydata, hiperbolic_fit(xdata, ans[0],ans[1]))"
   ]
  },
  {
   "cell_type": "code",
   "execution_count": 51,
   "metadata": {},
   "outputs": [],
   "source": [
    "x_plots = np.linspace(5,50,1000) # vetor para plotar o modelo "
   ]
  },
  {
   "cell_type": "code",
   "execution_count": 53,
   "metadata": {
    "scrolled": false
   },
   "outputs": [
    {
     "data": {
      "image/png": "[encoded data removed]",
      "text/plain": [
       "<Figure size 1152x360 with 1 Axes>"
      ]
     },
     "metadata": {
      "needs_background": "light"
     },
     "output_type": "display_data"
    }
   ],
   "source": [
    "pl.errorbar(xdata, ydata, yerr=4*yerro, xerr=4*xerro, fmt='.',c='k',label=r'Experimental data')\n",
    "pl.plot(x_plots,hiperbolic_fit(x_plots, ans[0], ans[1]),c='b',lw=2,label=r'$y=\\frac{a}{x} + b$ fit')\n",
    "pl.xlabel(r'Posição do objeto o (cm)', fontsize=18)\n",
    "pl.ylabel(r'Posição da imagem i (cm)', fontsize=18)\n",
    "pl.legend(loc=\"upper right\",fontsize = 16)\n",
    "pl.grid(ls=':',c='k')\n",
    "pl.savefig('Semana 2 - Composição de lentes.png')"
   ]
  },
  {
   "cell_type": "code",
   "execution_count": 70,
   "metadata": {},
   "outputs": [
    {
     "data": {
      "image/png": "[encoded data removed]",
      "text/plain": [
       "<Figure size 1152x360 with 1 Axes>"
      ]
     },
     "metadata": {
      "needs_background": "light"
     },
     "output_type": "display_data"
    }
   ],
   "source": [
    "pl.errorbar(xdata, residuo(ydata, hiperbolic_fit(xdata, ans[0],ans[1])), fmt='.')\n",
    "pl.xlabel(r'Posição do objeto o (cm)', fontsize=18)\n",
    "pl.ylabel(r'$\\sigma^2$ (cm)', fontsize=18)\n",
    "pl.grid()"
   ]
  },
  {
   "cell_type": "code",
   "execution_count": null,
   "metadata": {},
   "outputs": [],
   "source": [
    "# Exportando para csv para jogar no moodle:\n",
    "data = {'X':xdata, 'erro X':x_erro}\n",
    "df = pd.DataFrame(data, columns=['X', 'erro X'])\n",
    "df.to_csv('Export_to_moodle.csv')"
   ]
  },
  {
   "cell_type": "code",
   "execution_count": null,
   "metadata": {},
   "outputs": [],
   "source": []
  },
  {
   "cell_type": "code",
   "execution_count": 38,
   "metadata": {},
   "outputs": [
    {
     "data": {
      "text/plain": [
       "35.17246162690806"
      ]
     },
     "execution_count": 38,
     "metadata": {},
     "output_type": "execute_result"
    }
   ],
   "source": [
    "crit = scipy.stats.chi2.ppf(q = 0.95, # Find the critical value for 95% confidence*\n",
    "                      df = len(ydata)-len(ans))   # Df = number of variable categories - 1\n",
    "crit"
   ]
  },
  {
   "cell_type": "code",
   "execution_count": 33,
   "metadata": {},
   "outputs": [],
   "source": [
    "o =xdata\n",
    "i = ydata\n",
    "fd = -10.0\n",
    "fc = 20.0\n",
    "d=19.0"
   ]
  },
  {
   "cell_type": "code",
   "execution_count": 44,
   "metadata": {},
   "outputs": [
    {
     "name": "stdout",
     "output_type": "stream",
     "text": [
      "[[-3.68185000e+00  1.50808788e+02]\n",
      " [-4.50000000e-02  1.57160000e+00]]\n",
      "\n",
      "\n",
      "[[-3.86275000e+00  1.72693502e+02]\n",
      " [-4.50000000e-02  1.75295000e+00]]\n",
      "\n",
      "\n",
      "[[-4.1350000e+00  2.0389115e+02]\n",
      " [-4.5000000e-02  1.9770500e+00]]\n",
      "\n",
      "\n",
      "[[-4.38385000e+00  2.36787325e+02]\n",
      " [-4.50000000e-02  2.20250000e+00]]\n",
      "\n",
      "\n",
      "[[-4.87075000e+00  2.84923418e+02]\n",
      " [-4.50000000e-02  2.42705000e+00]]\n",
      "\n",
      "\n",
      "[[-5.0665000e+00  3.0049692e+02]\n",
      " [-4.5000000e-02  2.4716000e+00]]\n",
      "\n",
      "\n",
      "[[-5.47825000e+00  3.30288567e+02]\n",
      " [-4.50000000e-02  2.53055000e+00]]\n",
      "\n",
      "\n",
      "[[-3.5005000e+00  1.0610976e+02]\n",
      " [-4.5000000e-02  1.0784000e+00]]\n",
      "\n",
      "\n",
      "[[-3.4960000e+00  1.1163048e+02]\n",
      " [-4.5000000e-02  1.1508500e+00]]\n",
      "\n",
      "\n",
      "[[-3.56125000e+00  1.18000063e+02]\n",
      " [-4.50000000e-02  1.21025000e+00]]\n",
      "\n",
      "\n",
      "[[-3.5950000e+00  1.2120855e+02]\n",
      " [-4.5000000e-02  1.2390500e+00]]\n",
      "\n",
      "\n",
      "[[-3.6017500e+00  1.2496014e+02]\n",
      " [-4.5000000e-02  1.2836000e+00]]\n",
      "\n",
      "\n",
      "[[-3.595000e+00  1.280031e+02]\n",
      " [-4.500000e-02  1.324100e+00]]\n",
      "\n",
      "\n",
      "[[-3.730000e+00  1.563323e+02]\n",
      " [-4.500000e-02  1.617950e+00]]\n",
      "\n",
      "\n",
      "[[-3.892000e+00  1.802158e+02]\n",
      " [-4.500000e-02  1.826750e+00]]\n",
      "\n",
      "\n",
      "[[-4.0720000e+00  2.0519528e+02]\n",
      " [-4.5000000e-02  2.0220500e+00]]\n",
      "\n",
      "\n",
      "[[-4.3330000e+00  2.3122207e+02]\n",
      " [-4.5000000e-02  2.1705500e+00]]\n",
      "\n",
      "\n",
      "[[-4.5805000e+00  2.5813833e+02]\n",
      " [-4.5000000e-02  2.3177000e+00]]\n",
      "\n",
      "\n",
      "[[-4.9180000e+00  2.8747182e+02]\n",
      " [-4.5000000e-02  2.4270500e+00]]\n",
      "\n",
      "\n",
      "[[-3.6490000e+00  1.4203511e+02]\n",
      " [-4.5000000e-02  1.4775500e+00]]\n",
      "\n",
      "\n",
      "[[-3.7975000e+00  1.6358205e+02]\n",
      " [-4.5000000e-02  1.6751000e+00]]\n",
      "\n",
      "\n",
      "[[-3.64675000e+00  1.32042073e+02]\n",
      " [-4.50000000e-02  1.35515000e+00]]\n",
      "\n",
      "\n",
      "[[-4.2295000e+00  2.2178883e+02]\n",
      " [-4.5000000e-02  2.1233000e+00]]\n",
      "\n",
      "\n",
      "[[-5.5480000e+00  3.3709588e+02]\n",
      " [-4.5000000e-02  2.5539500e+00]]\n",
      "\n",
      "\n",
      "[[-5.29195000e+00  3.17483632e+02]\n",
      " [-4.50000000e-02  2.51075000e+00]]\n",
      "\n",
      "\n"
     ]
    }
   ],
   "source": [
    "for k in range(len(i)):\n",
    "    print(np.matrix([[1,i[k]],[0,1]]) * np.matrix([[1,0],[-1/fd,1]]) * np.matrix([[1,d],[0,1]]) * np.matrix([[1,0],[-1/fc,1]]) * np.matrix([[1,o[k]],[0,1]]))\n",
    "    print('\\n')"
   ]
  },
  {
   "cell_type": "code",
   "execution_count": null,
   "metadata": {},
   "outputs": [],
   "source": []
  },
  {
   "cell_type": "code",
   "execution_count": null,
   "metadata": {},
   "outputs": [],
   "source": []
  },
  {
   "cell_type": "code",
   "execution_count": null,
   "metadata": {},
   "outputs": [],
   "source": []
  },
  {
   "cell_type": "code",
   "execution_count": null,
   "metadata": {},
   "outputs": [],
   "source": []
  },
  {
   "cell_type": "code",
   "execution_count": null,
   "metadata": {},
   "outputs": [],
   "source": []
  }
 ],
 "metadata": {
  "kernelspec": {
   "display_name": "Python 3",
   "language": "python",
   "name": "python3"
  },
  "language_info": {
   "codemirror_mode": {
    "name": "ipython",
    "version": 3
   },
   "file_extension": ".py",
   "mimetype": "text/x-python",
   "name": "python",
   "nbconvert_exporter": "python",
   "pygments_lexer": "ipython3",
   "version": "3.7.3"
  }
 },
 "nbformat": 4,
 "nbformat_minor": 2
}
