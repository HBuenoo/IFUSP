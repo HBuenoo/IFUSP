{
 "cells": [
  {
   "cell_type": "markdown",
   "metadata": {},
   "source": [
    "## MAP0214 - Cálculo Numérico e aplicações em física\n",
    "### Henrique Bueno de Lima - Nº USP: 9302305\n",
    "### EP1 - Profº Arnaldo Gammal"
   ]
  },
  {
   "cell_type": "code",
   "execution_count": 104,
   "metadata": {},
   "outputs": [],
   "source": [
    "%matplotlib inline\n",
    "import numpy as np\n",
    "from matplotlib import pyplot as pl\n",
    "\n",
    "pl.rc('xtick', labelsize=16)\n",
    "pl.rc('ytick', labelsize=16)"
   ]
  },
  {
   "cell_type": "markdown",
   "metadata": {},
   "source": [
    "### a) Cálculo da raiz de $f(x) = x³ - \\cos(x²)$ pelo método da bissecção:"
   ]
  },
  {
   "cell_type": "code",
   "execution_count": 167,
   "metadata": {},
   "outputs": [],
   "source": [
    "def raiz_Bissec(funcao, x, precisao):\n",
    "    xa = x[0]\n",
    "    xb = x[-1]\n",
    "    while(abs(xb-xa) > precisao): # Enquanto não atinjo a precisão, o método continua\n",
    "        xm = (xa+xb)/2\n",
    "        fm = funcao(xm)\n",
    "        if (funcao(xa)*funcao(xm)>0): # Se os sinais forem iguais, xa recebe xm\n",
    "            xa = xm\n",
    "            fm = funcao(xa)\n",
    "        else:\n",
    "            xb = xm\n",
    "            fm = funcao(xb)\n",
    "    x0 = xb\n",
    "    print('O zero está no intervalo de x: [%.3f, %.3f]'%(xa, xb))\n",
    "    return x0\n",
    "def funcao1(x):\n",
    "    return x**3 - np.cos(x**2)"
   ]
  },
  {
   "cell_type": "code",
   "execution_count": 165,
   "metadata": {},
   "outputs": [
    {
     "name": "stdout",
     "output_type": "stream",
     "text": [
      "O zero está no intervalo de x: [0.889, 0.890]\n",
      "x0 =0.88965 e f(x0) = 0.00134\n"
     ]
    }
   ],
   "source": [
    "x = np.linspace(-2, 2, 100)\n",
    "x0 = raiz_Bissec(funcao1, x, 0.001)\n",
    "print('x0 =%.5f e f(x0) = %.5f'% (x0, funcao1(x0)))"
   ]
  },
  {
   "cell_type": "code",
   "execution_count": 166,
   "metadata": {},
   "outputs": [
    {
     "data": {
      "text/plain": [
       "<matplotlib.legend.Legend at 0x7fc594f7ada0>"
      ]
     },
     "execution_count": 166,
     "metadata": {},
     "output_type": "execute_result"
    },
    {
     "data": {
      "image/png": "[encoded data removed]",
      "text/plain": [
       "<Figure size 432x288 with 1 Axes>"
      ]
     },
     "metadata": {
      "needs_background": "light"
     },
     "output_type": "display_data"
    }
   ],
   "source": [
    "pl.errorbar(x0, funcao1(x0), marker='.', c='r', label='$f(x_0)$')\n",
    "pl.plot(x, funcao1(x), label='$f (x)$')\n",
    "pl.plot(x, np.zeros(len(x)), c='k')\n",
    "pl.legend(fontsize=14)"
   ]
  },
  {
   "cell_type": "code",
   "execution_count": null,
   "metadata": {},
   "outputs": [],
   "source": []
  },
  {
   "cell_type": "code",
   "execution_count": null,
   "metadata": {},
   "outputs": [],
   "source": []
  },
  {
   "cell_type": "code",
   "execution_count": null,
   "metadata": {},
   "outputs": [],
   "source": []
  },
  {
   "cell_type": "code",
   "execution_count": null,
   "metadata": {},
   "outputs": [],
   "source": []
  }
 ],
 "metadata": {
  "kernelspec": {
   "display_name": "Python 3",
   "language": "python",
   "name": "python3"
  },
  "language_info": {
   "codemirror_mode": {
    "name": "ipython",
    "version": 3
   },
   "file_extension": ".py",
   "mimetype": "text/x-python",
   "name": "python",
   "nbconvert_exporter": "python",
   "pygments_lexer": "ipython3",
   "version": "3.7.2"
  }
 },
 "nbformat": 4,
 "nbformat_minor": 2
}
